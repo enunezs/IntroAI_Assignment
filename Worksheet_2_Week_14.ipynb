{
  "nbformat": 4,
  "nbformat_minor": 0,
  "metadata": {
    "kernelspec": {
      "display_name": "Python 3",
      "language": "python",
      "name": "python3"
    },
    "language_info": {
      "codemirror_mode": {
        "name": "ipython",
        "version": 3
      },
      "file_extension": ".py",
      "mimetype": "text/x-python",
      "name": "python",
      "nbconvert_exporter": "python",
      "pygments_lexer": "ipython3",
      "version": "3.9.1"
    },
    "colab": {
      "name": "Worksheet 2 Week 14.ipynb",
      "provenance": [],
      "collapsed_sections": [
        "gH-eAXKJqjSf",
        "exGfzuAvqjSi",
        "64jfJmhvqjSj",
        "9gw6aTZyqjSm",
        "_1y0ZSkEqjSp"
      ],
      "include_colab_link": true
    }
  },
  "cells": [
    {
      "cell_type": "markdown",
      "metadata": {
        "id": "view-in-github",
        "colab_type": "text"
      },
      "source": [
        "<a href=\"https://colab.research.google.com/github/enunezs/IntroAI_Assignment/blob/main/Worksheet_2_Week_14.ipynb\" target=\"_parent\"><img src=\"https://colab.research.google.com/assets/colab-badge.svg\" alt=\"Open In Colab\"/></a>"
      ]
    },
    {
      "cell_type": "markdown",
      "metadata": {
        "id": "eNIXYN3BqjSC"
      },
      "source": [
        "# Introduction\n",
        "\n",
        "This worksheet covers the three supervised learning algorithms we looked at in week 14: k-nearest neighbours, linear regression, and the naive Bayes classifier. Similar to last week, you will do some work implementing your own versions of these algorithms, to ensure that you understand the details of them. You will also compare them with the implementations in scikit-learn to test your implementations."
      ]
    },
    {
      "cell_type": "markdown",
      "metadata": {
        "id": "abIT9vxQqjSM"
      },
      "source": [
        "# Preliminaries\n",
        "Import key packages: NumPy, matplotlib, and any others that you prefer to work with. In general, when writing code, you will put all your import statements at the top. However, for these worksheets we will import as we go along."
      ]
    },
    {
      "cell_type": "code",
      "metadata": {
        "id": "t48klmqIqjSO"
      },
      "source": [
        "#TODO: import NumPy and matplotlib here\n",
        "import numpy as np\n",
        "import matplotlib.pyplot as plt\n"
      ],
      "execution_count": null,
      "outputs": []
    },
    {
      "cell_type": "markdown",
      "metadata": {
        "id": "6ClgNvl-qjSP"
      },
      "source": [
        "# Question 1: k-nearest neighbours classification\n",
        "In this question we will use the k-nearest neighbours algorithm to make predictions on the breast cancer Wisconsin dataset. This is a classification problem where the aim is to classify instances as either being malignant or benign based on the following 10 features:\n",
        "1. radius (mean of distances from center to points on the perimeter)\n",
        "2. texture (standard deviation of gray-scale values)\n",
        "3. perimeter\n",
        "4. area\n",
        "5. smoothness (local variation in radius lengths)\n",
        "6. compactness (perimeter squared/ area −1)\n",
        "7. concavity (severity of concave portions of the contour)\n",
        "8. concave points (number of concave portions of the contour)\n",
        "9. symmetry\n",
        "10. fractal dimension (‘coastline approximation’ −1)\n",
        "\n",
        "In this question you will (a) download the dataset from sklearn and store the data and targets in suitable variables, (b) separate your data into a training and test split, (c) write your own function to implement k-nearest neighbours, (d) check your implementation with that of sklearn. Wethen go on to (e) select the most appropriate value of $k$ using cross-validation."
      ]
    },
    {
      "cell_type": "markdown",
      "metadata": {
        "id": "J2DRrPUYqjSS"
      },
      "source": [
        "## Part (a)\n",
        "Import the package `datasets` from `sklearn` and then load the breast cancer dataset (function is `load_breast_cancer()`). Save the data into a variable `X` and the targets into a variable `Y`. \n",
        "Take a look at the data in `X`. How many datapoints are there? How many features does each datapoint have? (Hint: use `np.shape`).\n",
        "Take a look at the targets. Is this suitable for a classification algorithm or a regression algorithm?"
      ]
    },
    {
      "cell_type": "code",
      "metadata": {
        "colab": {
          "base_uri": "https://localhost:8080/"
        },
        "id": "APTo7cvHqjSS",
        "outputId": "b08464e3-a43a-44ec-bcc8-fcc187ead6ac"
      },
      "source": [
        "# Import suitable packages, load the dataset, and save data and targets into variables X and Y\n",
        "# import packages\n",
        "##TODO##\n",
        "\n",
        "from sklearn import datasets\n",
        "\n",
        "\n",
        "# load dataset and save data and targets into X and Y\n",
        "##TODO##\n",
        "\n",
        "bc_dataset = datasets.load_breast_cancer()\n",
        "\n",
        "\n",
        "x = bc_dataset.data\n",
        "y = bc_dataset.target\n",
        "\n",
        "print(np.shape(x))\n",
        "print(y) # classification (Cancer or no cancer?)"
      ],
      "execution_count": null,
      "outputs": [
        {
          "output_type": "stream",
          "text": [
            "(569, 30)\n",
            "[0 0 0 0 0 0 0 0 0 0 0 0 0 0 0 0 0 0 0 1 1 1 0 0 0 0 0 0 0 0 0 0 0 0 0 0 0\n",
            " 1 0 0 0 0 0 0 0 0 1 0 1 1 1 1 1 0 0 1 0 0 1 1 1 1 0 1 0 0 1 1 1 1 0 1 0 0\n",
            " 1 0 1 0 0 1 1 1 0 0 1 0 0 0 1 1 1 0 1 1 0 0 1 1 1 0 0 1 1 1 1 0 1 1 0 1 1\n",
            " 1 1 1 1 1 1 0 0 0 1 0 0 1 1 1 0 0 1 0 1 0 0 1 0 0 1 1 0 1 1 0 1 1 1 1 0 1\n",
            " 1 1 1 1 1 1 1 1 0 1 1 1 1 0 0 1 0 1 1 0 0 1 1 0 0 1 1 1 1 0 1 1 0 0 0 1 0\n",
            " 1 0 1 1 1 0 1 1 0 0 1 0 0 0 0 1 0 0 0 1 0 1 0 1 1 0 1 0 0 0 0 1 1 0 0 1 1\n",
            " 1 0 1 1 1 1 1 0 0 1 1 0 1 1 0 0 1 0 1 1 1 1 0 1 1 1 1 1 0 1 0 0 0 0 0 0 0\n",
            " 0 0 0 0 0 0 0 1 1 1 1 1 1 0 1 0 1 1 0 1 1 0 1 0 0 1 1 1 1 1 1 1 1 1 1 1 1\n",
            " 1 0 1 1 0 1 0 1 1 1 1 1 1 1 1 1 1 1 1 1 1 0 1 1 1 0 1 0 1 1 1 1 0 0 0 1 1\n",
            " 1 1 0 1 0 1 0 1 1 1 0 1 1 1 1 1 1 1 0 0 0 1 1 1 1 1 1 1 1 1 1 1 0 0 1 0 0\n",
            " 0 1 0 0 1 1 1 1 1 0 1 1 1 1 1 0 1 1 1 0 1 1 0 0 1 1 1 1 1 1 0 1 1 1 1 1 1\n",
            " 1 0 1 1 1 1 1 0 1 1 0 1 1 1 1 1 1 1 1 1 1 1 1 0 1 0 0 1 0 1 1 1 1 1 0 1 1\n",
            " 0 1 0 1 1 0 1 0 1 1 1 1 1 1 1 1 0 0 1 1 1 1 1 1 0 1 1 1 1 1 1 1 1 1 1 0 1\n",
            " 1 1 1 1 1 1 0 1 0 1 1 0 1 1 1 1 1 0 0 1 0 1 0 1 1 1 1 1 0 1 1 0 1 0 1 0 0\n",
            " 1 1 1 0 1 1 1 1 1 1 1 1 1 1 1 0 1 0 0 1 1 1 1 1 1 1 1 1 1 1 1 1 1 1 1 1 1\n",
            " 1 1 1 1 1 1 1 0 0 0 0 0 0 1]\n"
          ],
          "name": "stdout"
        }
      ]
    },
    {
      "cell_type": "markdown",
      "metadata": {
        "id": "kizGaHPWqjSV"
      },
      "source": [
        "## Part (b)\n",
        "\n",
        "Use the function `train_test_split` from `sklearn.model_selection` to split your data into a training set and a held-out test set. Use a test set that is 0.2 of the original dataset. Set the parameter `random_state` to 10 to help with replication."
      ]
    },
    {
      "cell_type": "code",
      "metadata": {
        "id": "QjwiJTLLqjSV"
      },
      "source": [
        "# Import the package train_test_split from sklearn.model_selection.\n",
        "# Split the dataset into Xtr, Xtest, Ytr, Ytest. Xtest and Ytest will form your held-out\n",
        "# test set. You will later split Xtr and Ytr into training and validation sets.\n",
        "from sklearn.model_selection import train_test_split\n",
        "\n",
        "Xtr, Xtest, Ytr, Ytest =  train_test_split(x, y, test_size=0.2, random_state=10)"
      ],
      "execution_count": null,
      "outputs": []
    },
    {
      "cell_type": "markdown",
      "metadata": {
        "id": "39GzgZzdqjSX"
      },
      "source": [
        "## Part (c) \n",
        "Recall from the lecture that the k-nearest neighbours algorithm runs as follows:\n",
        "\n",
        "Training step: Simply store the dataset\n",
        "\n",
        "Prediction step: Given a datapoint $\\vec{x}$:\n",
        " - **Find** the k datapoints $(\\vec{x}_i, y_i)$ where the distance from $\\vec{x}$ to $\\vec{x}_i$ is smallest\n",
        " - **Return** the majority class from the $y_i$\n",
        "   \n",
        " \n",
        "What, if anything, do you need to do for the training step?\n",
        "\n",
        "Write function(s) to implement the k-nearest neighbours prediction step. You may wish to break the procedure down into two functions `predict_datapoint` that makes a prediction for one datapoint and `predict_data` that loops over the whole dataset.\n",
        "\n",
        "To select the majority class from the nearest neighbours, you can use the function `scipy.stats.mode()`\n"
      ]
    },
    {
      "cell_type": "code",
      "metadata": {
        "colab": {
          "base_uri": "https://localhost:8080/"
        },
        "id": "-t9MdE8zqjSX",
        "outputId": "ef492218-ffe1-4bb3-fcfb-b55efec04ea2"
      },
      "source": [
        "from scipy.stats import mode\n",
        "# Write function(s) to implement the prediction step in k-nearest neighbours. \n",
        "# You can use the suggested structure below if desired.\n",
        "\n",
        "\n",
        "# predict_datapoint takes 4 arguments. pt (type: numpy array) is the datapoint we are making a prediction about, \n",
        "# Xtrain and Ytrain (numpy arrays) are training data and targets, k (int) is the number of neighbours.\n",
        "# Returns an integer which is the predicted class for pt\n",
        "def predict_datapoint(pt, Xtrain, Ytrain, k):\n",
        "    # For each datapoint in Xtrain, calculate the distance to pt and store\n",
        "    ##TODO##\n",
        "    dist = np.linalg.norm(Xtrain-pt, axis=1)\n",
        "    \n",
        "    # Sort the list of distances (hint: use np.argsort)\n",
        "    ##TODO##\n",
        "    min_dist_index = np.argsort(dist) # returns indices that would sort the array, in increasing order\n",
        "\n",
        "    # obtain the classes (in Ytrain) of the datapoints with the smallest distance to pt\n",
        "    ##TODO##\n",
        "    classes = Ytrain[min_dist_index[0:k]]\n",
        "    #print(classes)\n",
        "    \n",
        "    # return the mode (most common element) of the classes\n",
        "    ##TODO##\n",
        "\n",
        "    mode = np.bincount(classes)\n",
        "    return np.argmax(mode)\n",
        "\n",
        "\n",
        "# predict_data takes 4 arguments: the test data Xtst (numpy array), the training data Xtrain (numpy array),\n",
        "# the training targets Ytrain (numpy array), and the number of neighbours k (int, default = 3). \n",
        "# Returns: predictions (array of int) for each point in Xtst\n",
        "def predict_data(Xtst, Xtrain, Ytrain, k=3):\n",
        "    #Loop over the datapoints in Xtst and store the prediction for that datapoint\n",
        "    ##TODO##\n",
        "    pred = []\n",
        "\n",
        "    for i, pt in enumerate(Xtst):\n",
        "      pred.append(predict_datapoint(pt, Xtrain, Ytrain, k))\n",
        "    # Return the predictions\n",
        "    ##TODO##\n",
        "    return pred\n",
        "# Predict values for the TRAINING data (we will not look at the test set yet)\n",
        "##TODO##\n",
        "\n",
        "my_pred = predict_data(Xtr, Xtr, Ytr)\n",
        "\n",
        "#print('Pred ' + str(my_pred))\n",
        "#print(' truth ' + str(Ytr))\n",
        "print(my_pred==Ytr)\n"
      ],
      "execution_count": null,
      "outputs": [
        {
          "output_type": "stream",
          "text": [
            "[ True  True False  True  True  True  True  True  True  True  True  True\n",
            "  True  True  True  True  True  True  True  True  True  True  True  True\n",
            "  True  True  True  True  True  True  True  True  True  True  True  True\n",
            "  True  True  True  True  True  True  True  True  True  True  True  True\n",
            "  True  True  True  True  True  True  True  True  True  True  True  True\n",
            "  True  True  True  True  True  True  True False  True  True  True False\n",
            "  True  True  True  True  True  True  True  True  True  True  True  True\n",
            "  True  True  True  True  True  True  True  True  True  True  True  True\n",
            "  True  True  True  True  True  True  True  True  True  True  True  True\n",
            "  True  True  True  True  True  True  True False  True  True  True  True\n",
            "  True  True  True  True  True  True  True  True  True  True  True  True\n",
            "  True  True  True  True  True  True  True  True False  True  True  True\n",
            "  True  True  True  True  True  True  True  True  True  True  True  True\n",
            "  True  True  True  True  True  True  True  True  True  True  True  True\n",
            "  True  True  True  True  True False  True  True  True  True  True  True\n",
            "  True  True  True  True  True  True  True  True  True  True False  True\n",
            "  True  True  True  True  True  True  True  True  True  True  True  True\n",
            "  True  True  True  True  True  True  True  True  True  True  True  True\n",
            "  True  True  True  True  True  True  True  True  True  True  True  True\n",
            "  True  True  True  True  True  True  True  True  True False  True  True\n",
            "  True  True False  True  True  True  True  True  True  True  True False\n",
            "  True  True  True  True  True  True  True  True  True  True  True  True\n",
            "  True  True  True  True  True  True  True  True  True  True  True  True\n",
            "  True  True  True False  True  True  True  True  True  True  True  True\n",
            "  True  True  True  True False  True  True  True  True  True  True  True\n",
            "  True  True  True  True  True  True  True  True  True  True  True  True\n",
            "  True  True  True  True  True  True  True  True  True  True  True  True\n",
            "  True  True  True  True  True  True  True  True  True  True  True  True\n",
            " False  True  True  True False  True  True  True False  True  True  True\n",
            "  True  True  True  True  True  True  True False  True  True  True  True\n",
            "  True False  True  True  True  True  True  True  True  True  True  True\n",
            "  True  True  True  True  True  True  True  True  True  True  True  True\n",
            "  True  True  True  True  True  True  True  True  True  True  True  True\n",
            "  True  True  True  True  True  True  True  True  True False False  True\n",
            "  True  True  True  True  True  True  True  True  True  True  True  True\n",
            "  True  True  True  True  True  True  True  True  True  True  True  True\n",
            " False  True  True  True  True  True  True  True  True  True  True  True\n",
            "  True  True  True  True  True  True  True  True  True  True  True]\n"
          ],
          "name": "stdout"
        }
      ]
    },
    {
      "cell_type": "markdown",
      "metadata": {
        "id": "OYDGRU0ZqjSX"
      },
      "source": [
        "## Part (d)\n",
        "Now we can compare your implementation with the sklearn implementation (you should get the same results). Firstly import the classfifier `KNeighborsClassifier` from `sklearn.neighbors`. Instantiate the classifier with the same number of neighbours that you used previously. Fit the model and make a prediction on the test set."
      ]
    },
    {
      "cell_type": "code",
      "metadata": {
        "id": "q38hNeheqjSa"
      },
      "source": [
        "##TODO##\n",
        "from sklearn.neighbors import KNeighborsClassifier\n",
        "\n",
        "# Instantiate the classifier with 3 neighbors\n",
        "##TODO##\n",
        "knn = KNeighborsClassifier(n_neighbors=3)\n",
        "\n",
        "#Fit the classifier on the training data\n",
        "##TODO##\n",
        "knn.fit(Xtr, Ytr)\n",
        "\n",
        "#Make a prediction on the training data\n",
        "Ypred = knn.predict(Xtr)"
      ],
      "execution_count": null,
      "outputs": []
    },
    {
      "cell_type": "markdown",
      "metadata": {
        "id": "oAvF15csqjSa"
      },
      "source": [
        "Check whether your predictions are the same as the predictions from `KNeighborsClassifier`."
      ]
    },
    {
      "cell_type": "code",
      "metadata": {
        "id": "4Hz1-nhsqjSa"
      },
      "source": [
        "##TODO##\n",
        "assert((my_pred == Ypred).all()) ## :D"
      ],
      "execution_count": null,
      "outputs": []
    },
    {
      "cell_type": "markdown",
      "metadata": {
        "id": "F6V5DW5lqjSa"
      },
      "source": [
        "Use the built in metrics in sklearn to calculate the accuracy of your classifier on the TRAINING set."
      ]
    },
    {
      "cell_type": "code",
      "metadata": {
        "colab": {
          "base_uri": "https://localhost:8080/"
        },
        "id": "NfMEYdiZqjSb",
        "outputId": "53461203-9375-4e1f-8e2b-8d09c670a52e"
      },
      "source": [
        "##TODO## \n",
        "from sklearn.metrics import precision_score, recall_score, accuracy_score\n",
        "print('Accuracy ' + str(accuracy_score(Ytr, my_pred))) #:っD"
      ],
      "execution_count": null,
      "outputs": [
        {
          "output_type": "stream",
          "text": [
            "Accuracy 0.9560439560439561\n"
          ],
          "name": "stdout"
        }
      ]
    },
    {
      "cell_type": "markdown",
      "metadata": {
        "id": "Sf4Ut0L6qjSc"
      },
      "source": [
        "## Part(e) Using cross-validation for model selection\n",
        "k-nearest neighbours has the parameter $k$, and we need to decide which is the best value of $k$ to use. Last week we talked about using cross-validation for model selection.\n",
        "\n",
        "We will use cross-validation on our training set to select the best value of $k$, in a range from 1 to 30.\n",
        "\n",
        "NB: use sklearn's version of k-NN rather than yours, since unless you have optimised yours it is probably too slow.\n",
        "\n",
        "Since we are using cross-validation for model selection we will cross-validate on the training set only.\n",
        "\n",
        "Procedure:\n",
        "        \n",
        " 1. Import `KFold` from `sklearn.model_selection`  \n",
        " 1. Instantiate `KFold` with 5 splits. Set the parameter `random_state` to help you reproduce your results if needed.\n",
        " 1. Set a variable `max_k` to 30  \n",
        " 1. Inititalise two variables to store the training accuracies and validation accuracies (these need to store max_k\\*5 accuracies)  \n",
        " 1. Loop over the values of k:  \n",
        "    1. Instantiate a k-nn classifier (Use the sklearn classifier) with the current value of k  \n",
        "    1. Loop over the cross-validation splits:  \n",
        "       1. fit the model on the current split of data  \n",
        "       1. make predictions  \n",
        "       1. calculate training and validation accuracy and store  \n",
        " 6. Calculate the mean training and validation accuracies across splits for each $k$\n",
        "\n",
        "Plot the mean training and validation accuracies. Which value of $k$ will you use? Why?\n",
        "    "
      ]
    },
    {
      "cell_type": "code",
      "metadata": {
        "colab": {
          "base_uri": "https://localhost:8080/"
        },
        "id": "5m-2mYLWqjSd",
        "outputId": "3340f5d9-4202-4e41-8e6c-56f175f4c5ed"
      },
      "source": [
        "# Use cross-validation to select the value of k\n",
        "# You can use the structure below if desired\n",
        "\n",
        "# Import KFold from sklearn.model_selection\n",
        "\n",
        "from sklearn.model_selection import KFold\n",
        "\n",
        "# Instantiate KFold with 5 splits. \n",
        "# Set the parameter random_state to help you reproduce your results if needed.\n",
        "kf = KFold(n_splits=5,random_state=123,shuffle=True)\n",
        "\n",
        "# Set a variable max_k to 30 \n",
        "max_k = 30\n",
        "\n",
        "# Inititalise two variables to store the \n",
        "# training accuracies and validation accuracies \n",
        "# (these need to store max_k*5 accuracies) \n",
        "##TODO##\n",
        "tr_acc = [[] for _ in range(max_k)]\n",
        "val_acc = [[] for _ in range(max_k)]\n",
        "\n",
        "# Loop over the values of k: \n",
        "for k in range(max_k):\n",
        "  \n",
        "    # Instantiate a k-nn classifier (Use the sklearn classifier)\n",
        "    # with the current value of k \n",
        "    \n",
        "  knn = KNeighborsClassifier(n_neighbors=k+1)\n",
        "\n",
        "  # Loop over the cross-validation splits: \n",
        "  for train_index, val_index in kf.split(Xtr):\n",
        "    xtrain= Xtr[train_index]\n",
        "    xval = Xtr[val_index]\n",
        "    ytrain = Ytr[train_index]\n",
        "    yval = Ytr[val_index]\n",
        "\n",
        "    # fit the model on the current split of data \n",
        "    knn.fit(xtrain,ytrain)\n",
        "        \n",
        "    # make predictions \n",
        "    pred_ytrain = knn.predict(xtrain)\n",
        "    pred_yval = knn.predict(xval)\n",
        "        \n",
        "    # calculate training and validation accuracy and store \n",
        "    tr_acc[k].append(accuracy_score(pred_ytrain, ytrain))\n",
        "    val_acc[k].append(accuracy_score(pred_yval, yval))\n",
        "        \n",
        "# Calculate the mean training and validation accuracies across splits for each 𝑘\n",
        "##TODO##\n",
        "\n",
        "mean_tr_acc = np.mean(tr_acc, axis=1)\n",
        "mean_val_acc = np.mean(val_acc, axis=1)\n",
        "\n",
        "print(mean_tr_acc)\n",
        "print(mean_val_acc)\n",
        "print(mean_val_acc.argmax())\n"
      ],
      "execution_count": null,
      "outputs": [
        {
          "output_type": "stream",
          "text": [
            "[1.         0.96923077 0.95549451 0.95       0.94725275 0.94450549\n",
            " 0.9456044  0.9456044  0.94395604 0.94395604 0.93791209 0.93791209\n",
            " 0.93461538 0.93736264 0.93516484 0.93626374 0.93571429 0.93681319\n",
            " 0.93406593 0.93516484 0.93021978 0.93131868 0.92637363 0.92637363\n",
            " 0.92362637 0.92362637 0.92197802 0.92087912 0.92142857 0.92197802]\n",
            "[0.91208791 0.91208791 0.93406593 0.92747253 0.93406593 0.93186813\n",
            " 0.94065934 0.94065934 0.94065934 0.93846154 0.93186813 0.93406593\n",
            " 0.93186813 0.92967033 0.93406593 0.92967033 0.93186813 0.92967033\n",
            " 0.93406593 0.93186813 0.93186813 0.93406593 0.92967033 0.92967033\n",
            " 0.92527473 0.92527473 0.92307692 0.92307692 0.92307692 0.92307692]\n",
            "6\n"
          ],
          "name": "stdout"
        }
      ]
    },
    {
      "cell_type": "code",
      "metadata": {
        "colab": {
          "base_uri": "https://localhost:8080/",
          "height": 296
        },
        "id": "acs3zIVxqjSe",
        "outputId": "ef4f2b7e-e325-4b79-dc3a-6e41621ea3cd"
      },
      "source": [
        "# Plot the mean training and validation accuracies against each value of k. Which value of 𝑘 will you use? Why?\n",
        "\n",
        "\n",
        "x_val = range(max_k)\n",
        "\n",
        "fig, ax = plt.subplots() # Generates a named figure (fig) and axes (ax)\n",
        "ax.plot(x_val, mean_tr_acc, label = 'Training Accuracy') # Scatterplot of the data on the ax.\n",
        "ax.plot(x_val, mean_val_acc, label = 'Validation Accuracy') # Scatterplot of the data on the ax.\n",
        "ax.vlines(x_val[mean_val_acc.argmax()],0.9,1,colors='b', linestyles='dashed') #Stop at the fifth element\n",
        "plt.xlabel('Tree depth')\n",
        "plt.legend()"
      ],
      "execution_count": null,
      "outputs": [
        {
          "output_type": "execute_result",
          "data": {
            "text/plain": [
              "<matplotlib.legend.Legend at 0x7f4409bd94a8>"
            ]
          },
          "metadata": {
            "tags": []
          },
          "execution_count": 9
        },
        {
          "output_type": "display_data",
          "data": {
            "image/png": "[encoded data removed]",
            "text/plain": [
              "<Figure size 432x288 with 1 Axes>"
            ]
          },
          "metadata": {
            "tags": [],
            "needs_background": "light"
          }
        }
      ]
    },
    {
      "cell_type": "markdown",
      "metadata": {
        "id": "prWzKMHyqjSe"
      },
      "source": [
        "# The naive Bayes classifier\n",
        "\n",
        "Recall from the lecture notes that the naive Bayes classifier works as follows. We are trying to approximate an unknown function $$f:\\Omega \\rightarrow \\mathcal{O}$$\n",
        "where $\\Omega$ is our feature space and our output space $\\mathcal{O} = \\{c_1, c_2, ... c_K\\}$ is a finite set of classes.\n",
        "\n",
        "The naive Bayes classifier does this by building a model that assigns the class label $\\hat{y} = c_k$ as follows:\n",
        "$$\n",
        "\\hat{y} = \\text{argmax}_k p(c_k)\\prod_i p(x_i| c_k)\n",
        "$$\n",
        "i.e., the $k$ that maximises this quantity.\n",
        "\n",
        "In practice, multiplying all the $p(x_i| c_k)$ together is going to give some very small values. Therefore, we can take the log to make it easier to compute:\n",
        "\\begin{align}\n",
        "\\hat{y} &= \\text{argmax}_k p(c_k)\\prod_i p(x_i| c_k)= \\text{argmax}_k log(p(c_k)\\prod_i p(x_i| c_k))\\\\\n",
        "&=\\text{argmax}_k log(p(c_k)) + \\sum_i log(p(x_i|c_k))\n",
        "\\end{align}\n",
        "\n",
        "If we choose that $p(x_i|c_k)$ is given by a normal distribution with mean $\\mu_k$ and variance $\\sigma_k^2$, then we obtain the following expression:\n",
        "\n",
        "\\begin{align}\n",
        "\\hat{y} &=\\text{argmax}_k \\log(p(c_k)) + \\sum_i \\log(p(x_i|c_k))\\\\\n",
        "&= \\text{argmax}_k \\log(p(c_k)) + \\sum_i \\log\\left(\\frac{1}{\\sigma_k\\sqrt{2\\pi}} exp\\left(\\frac{-(x-\\mu_k)^2}{2\\sigma_k}\\right)\\right)\\\\\n",
        "&= \\text{argmax}_k \\log(p(c_k)) - \\sum_i \\log\\left(\\sigma_k\\sqrt{2\\pi}\\right) - \\sum_i\\left(\\frac{(x-\\mu_k)^2}{2\\sigma_k}\\right) \\quad \\text{ log-likelihood}\n",
        "\\end{align}\n",
        "\n",
        "Expressing the values in terms of these sums means that they do not get so small, and it is less likely that there will be errors at the machine precision level.\n",
        "\n",
        "\n",
        "How do we implement this in practice? We assume that each probability $p(x_i| c_k)$ is given by some distribution, and then given a datapoint $\\vec{x}$, we plug the value into the equation for the distribution.\n",
        "\n",
        "In this question you will (a) implement your own version of the Gaussian naive Bayes classifier, (b) check your classifier against the implementation in sci-kit learn, (c) compare the accuracy of the naive Bayes classifier with the accuracy of the k-nearest neighbours classifier, and (d) run cross-validation to verify whether the kNN classfier or the Gaussian naive Bayes classifier performs better on this dataset.\n",
        "\n",
        "## Part (a) Implementing Gaussian naive Bayes\n",
        "For this question we will make the assumption that each feature is described by a normal (also called Gaussian) distribution. The procedure is as follows:\n",
        "1. Divide the training data by class\n",
        "2. Calculate mean and standard deviation per class and per feature\n",
        "4. For each datapoint in the validation set, calculate the log-likelihood for each class and for each feature (Hint: use the function `scipy.stats.norm.logpdf`)\n",
        "5. Combine these values together with the probability of the class according to the log-likelihood equation above\n",
        "6. Choose the class with the highest value\n"
      ]
    },
    {
      "cell_type": "code",
      "metadata": {
        "id": "CpIGKQNLqjSf",
        "colab": {
          "base_uri": "https://localhost:8080/"
        },
        "outputId": "a2ce4e34-d49a-4dd0-a207-fee28783ed7e"
      },
      "source": [
        "##TODO##\n",
        "# Write your own implementation of naive Bayes applied to the breast cancer dataset.\n",
        "\n",
        "# If you wish you can follow the structure below\n",
        "from scipy.stats import norm\n",
        "\n",
        "# Split the training data Xtr into training and validation sets with an 80:20 split. \n",
        "# Set the random state to help with reproducibility\n",
        "\n",
        "Xtrain, Xval, Ytrain, Yval =  train_test_split(Xtr, Ytr, test_size=0.2, random_state=321)\n",
        "\n",
        "#Separate the training set into classes, so you have one set of data for each class\n",
        "#print(Ytrain)\n",
        "\n",
        "Xtrain_0 = Xtrain[Ytrain==0,:]\n",
        "Xtrain_1 = Xtrain[Ytrain==1,:]\n",
        "\n",
        "\n",
        "# Calculate the means and standard deviations for each class, for each feature. \n",
        "# There are 30 features in the dataset, so you should have a 30-dimensional \n",
        "# array of means for each class and a 30-dimensional array of standard deviations\n",
        "# for each class. Remember that you can take the average across rows or columns of \n",
        "# a matrix by specifying axis = 1 or axis = 0\n",
        "\n",
        "avg_Xtrain_0 = np.mean(Xtrain_0, axis=0)\n",
        "std_Xtrain_0 = np.std(Xtrain_0, axis=0)\n",
        "#print('mean of ' + str(avg_Xtrain_0) + ' \\nand std of ' + str(std_Xtrain_0))\n",
        "\n",
        "avg_Xtrain_1 = np.mean(Xtrain_1, axis=0)\n",
        "std_Xtrain_1 = np.std(Xtrain_1, axis=0)\n",
        "#print('mean of ' + str(avg_Xtrain_1) + ' \\nand std of ' + str(std_Xtrain_1))\n",
        "\n",
        "\n",
        "# Calculate the prior probability p(c_i) for each class\n",
        "pc_0 = len(Xtrain_0)/(len(Xtrain_0)+len(Xtrain_1))\n",
        "pc_1 = len(Xtrain_1)/(len(Xtrain_0)+len(Xtrain_1))\n",
        "\n",
        "# Calculate the log-likelihood of each class for each datapoint in the validation set\n",
        "# Hint: you can use the function scipy.stats.norm.logpdf to help with this\n",
        "##TODO##\n",
        "\n",
        "loglike_0 = np.log(pc_0) + np.sum(norm.logpdf(Xval, loc=avg_Xtrain_0, scale=std_Xtrain_0),axis = 1)\n",
        "\n",
        "#print(norm.logpdf(Xval, loc=avg_Xtrain_0, scale=std_Xtrain_0))\n",
        "loglike_1 = np.log(pc_1) + np.sum(norm.logpdf(Xval, loc=avg_Xtrain_1, scale=std_Xtrain_1),axis = 1)\n",
        "\n",
        "# Your predicted class is 0 if class 0 has the highest log-likelihood, and 1 if class 1 \n",
        "# has the highest log-likelihood\n",
        "##TODO##\n",
        "my_prediction = loglike_1>loglike_0\n",
        "\n",
        "print(np.equal(my_prediction,Yval))\n",
        "\n",
        "\n"
      ],
      "execution_count": null,
      "outputs": [
        {
          "output_type": "stream",
          "text": [
            "[ True  True  True  True False  True  True  True  True False False  True\n",
            "  True  True  True False  True  True  True  True  True  True  True  True\n",
            "  True  True  True  True  True  True  True  True  True  True  True  True\n",
            "  True  True  True  True  True  True  True  True  True  True  True  True\n",
            "  True  True False  True  True False  True  True  True  True  True False\n",
            "  True  True  True  True  True  True  True  True  True  True  True  True\n",
            "  True  True  True  True False  True  True False  True  True  True  True\n",
            "  True  True  True False  True  True  True]\n"
          ],
          "name": "stdout"
        }
      ]
    },
    {
      "cell_type": "markdown",
      "metadata": {
        "id": "gH-eAXKJqjSf"
      },
      "source": [
        "## Part (b) Checking results\n",
        "We now compare our results with the sklearn implementation. "
      ]
    },
    {
      "cell_type": "code",
      "metadata": {
        "id": "tl5sbuouqjSg"
      },
      "source": [
        "##Import the classifier GaussianNB from sklearn.naive_bayes\n",
        "from sklearn.naive_bayes import GaussianNB\n",
        "# Instantiate the classifier (use the parameter var_smoothing=0.0),\n",
        "# fit, and predict the classes\n",
        "##TODO##\n",
        "\n",
        "nb = GaussianNB(var_smoothing=0.0)\n",
        "\n",
        "nb.fit(Xtrain,Ytrain)\n",
        "\n",
        "sk_Yval_pred = nb.predict(Xval)"
      ],
      "execution_count": null,
      "outputs": []
    },
    {
      "cell_type": "code",
      "metadata": {
        "id": "s8Rmd-VPqjSh",
        "colab": {
          "base_uri": "https://localhost:8080/"
        },
        "outputId": "b3f0a62d-c042-4a46-81ee-0d9218b6d71f"
      },
      "source": [
        "# Compare your predicted classes with those of the sklearn implementation.\n",
        "# If they are not identical, this may be due to some differences in parameter setting. \n",
        "# They should be almost all the same, however.\n",
        "##TODO##\n",
        "print(np.equal(sk_Yval_pred , my_prediction))"
      ],
      "execution_count": null,
      "outputs": [
        {
          "output_type": "stream",
          "text": [
            "[ True  True  True  True  True  True  True  True  True  True  True  True\n",
            "  True  True  True  True  True  True  True  True  True  True  True  True\n",
            "  True  True  True  True  True  True  True  True  True  True  True  True\n",
            "  True  True  True  True  True  True  True  True  True  True  True  True\n",
            "  True  True  True  True  True  True  True  True  True  True  True  True\n",
            "  True  True  True  True  True  True  True  True  True  True  True  True\n",
            "  True  True  True  True  True  True  True  True  True  True  True  True\n",
            "  True  True  True  True  True  True  True]\n"
          ],
          "name": "stdout"
        }
      ]
    },
    {
      "cell_type": "markdown",
      "metadata": {
        "id": "exGfzuAvqjSi"
      },
      "source": [
        "## Part (c) Comparing k-nearest neighbours and Gaussian naive Bayes\n",
        "Now retrain the naive Bayes classifier using the original training set `Xtr`, `Ytr`.\n",
        "Also, retrain the k-nearest neighbours classifier using `Xtr` and `Ytr`. Use the value of $k$ that you decided on using cross-validation.\n",
        "You can use the sklearn implementations of knn and naive Bayes.\n",
        "\n",
        "Compute the accuracy of the naive Bayes classifier over the training set and the held-out test set.\n",
        "\n",
        "Compare with the accuracy of the k-nearest neighbours classifier on each set.\n",
        "\n",
        "Is it clear which classifier is the best on this dataset? why or why not?"
      ]
    },
    {
      "cell_type": "code",
      "metadata": {
        "scrolled": false,
        "id": "NNNwWNALqjSi",
        "colab": {
          "base_uri": "https://localhost:8080/"
        },
        "outputId": "4ffb4cfa-d0c0-46cf-d82f-7aff8ca5c5de"
      },
      "source": [
        "# Instantiate the knn classifer with your chosen value of k\n",
        "##TODO##\n",
        "\n",
        "knn = KNeighborsClassifier(n_neighbors=3)\n",
        "nb = GaussianNB(var_smoothing=0.0)\n",
        "\n",
        "\n",
        "# Fit the Gaussian naive Bayes classifier and the knn classifier on Xtr, Ytr\n",
        "##TODO##\n",
        "\n",
        "nb.fit(Xtr,Ytr)\n",
        "knn.fit(Xtr, Ytr)\n",
        "\n",
        "# Make predictions for the training set and the test set\n",
        "##TODO##\n",
        "\n",
        "sk_Ytest = nb.predict(Xtest)\n",
        "knn_Ytest = knn.predict(Xtest)\n",
        "\n",
        "\n",
        "# Take a look at the accuracy scores\n",
        "##TODO##\n",
        "\n",
        "from sklearn.metrics import precision_score, recall_score, accuracy_score\n",
        "\n",
        "print(accuracy_score(sk_Ytest, Ytest)) \n",
        "print(accuracy_score(knn_Ytest, Ytest))"
      ],
      "execution_count": null,
      "outputs": [
        {
          "output_type": "stream",
          "text": [
            "0.956140350877193\n",
            "0.9210526315789473\n"
          ],
          "name": "stdout"
        }
      ]
    },
    {
      "cell_type": "markdown",
      "metadata": {
        "id": "64jfJmhvqjSj"
      },
      "source": [
        "## Part (d) Using cross-validation for statistical validation\n",
        "Earlier we used cross-validation to select the model parameters we would be using. We can also use it another way: to provide statistical information about which model is best. We will set up cross-validation on the whole dataset, with 10 folds.\n",
        "\n",
        " - Compute the accuracy for each model on the test set on each fold.\n",
        " - Calculate the mean accuracy across folds. Which model performs best?\n",
        " - Make a box-plot of the spread of scores of each model. Is there a clear difference between model performance?\n",
        " - Perform a paired t-test on the accuracy scores. What can you conclude about the performance of the two models?\n"
      ]
    },
    {
      "cell_type": "code",
      "metadata": {
        "id": "g1Go1SEEqjSk"
      },
      "source": [
        "# Set up a k-fold cross-validation with 10 folds\n",
        "\n",
        "from sklearn.model_selection import KFold\n",
        "kf = KFold(n_splits=10, random_state=99, shuffle=True)"
      ],
      "execution_count": null,
      "outputs": []
    },
    {
      "cell_type": "code",
      "metadata": {
        "id": "bxgtpCvSqjSk"
      },
      "source": [
        "# For each fold, fit each model on the training data \n",
        "# and compute accuracy on the test data.\n",
        "\n",
        "acc_sk = []\n",
        "acc_knn = []\n",
        "\n",
        "for train_index, val_index in kf.split(Xtr):\n",
        "    Xtrain, Xval = Xtr[train_index], Xtr[val_index]\n",
        "    Ytrain, yval = Ytr[train_index], Ytr[val_index]\n",
        "    #Fit the classifier on Xtrain and Ytrain\n",
        "    nb.fit(Xtrain, Ytrain)\n",
        "    knn.fit(Xtrain, Ytrain)\n",
        "\n",
        "    sk_Ytest = nb.predict(Xtest)\n",
        "    knn_Ytest = knn.predict(Xtest)\n",
        "     \n",
        "    acc_sk.append(accuracy_score(sk_Ytest, Ytest))\n",
        "    acc_knn.append(accuracy_score(knn_Ytest, Ytest))"
      ],
      "execution_count": null,
      "outputs": []
    },
    {
      "cell_type": "code",
      "metadata": {
        "id": "CCSyjFORqjSk",
        "colab": {
          "base_uri": "https://localhost:8080/"
        },
        "outputId": "89fac6d1-6c91-451e-fe84-92fdf32edb36"
      },
      "source": [
        "# Compute the mean and standard devation of the accuracies for each model.\n",
        "# Does one model perform better?\n",
        "\n",
        "av_acc_sk = np.mean(acc_sk)\n",
        "print(av_acc_sk)\n",
        "av_acc_knn = np.mean(acc_knn)\n",
        "print(av_acc_knn)"
      ],
      "execution_count": null,
      "outputs": [
        {
          "output_type": "stream",
          "text": [
            "0.9517543859649124\n",
            "0.9184210526315789\n"
          ],
          "name": "stdout"
        }
      ]
    },
    {
      "cell_type": "code",
      "metadata": {
        "id": "_YJYSaviqjSl",
        "colab": {
          "base_uri": "https://localhost:8080/"
        },
        "outputId": "83194267-8436-4ad8-92f9-ecc5731d4b93"
      },
      "source": [
        "  \n",
        "# Make a boxplot of the accuracy scores. (Use plt.boxplot). \n",
        "# Is there a clear difference between the models?\n",
        "\n",
        "#print(acc_knn)\n",
        "\n",
        "fig1, ax1 = plt.subplots()\n",
        "ax1.set_title('Basic Plot')\n",
        "#ax1.boxplot(acc_sk)\n",
        "plt.boxplot([acc_knn,acc_sk])\n",
        "\n",
        "plt.show() \n",
        "\n",
        "##Yup, great difference"
      ],
      "execution_count": null,
      "outputs": [
        {
          "output_type": "display_data",
          "data": {
            "image/png": "[encoded data removed]",
            "text/plain": [
              "<Figure size 432x288 with 1 Axes>"
            ]
          },
          "metadata": {
            "tags": [],
            "needs_background": "light"
          }
        }
      ]
    },
    {
      "cell_type": "code",
      "metadata": {
        "id": "-b8v6s1mqjSm",
        "colab": {
          "base_uri": "https://localhost:8080/"
        },
        "outputId": "92c76db8-d92f-4e50-9daa-19a7aa4899ab"
      },
      "source": [
        "# Perform a paired t-test (you can use the function scipy.stats.ttest_rel). \n",
        "# What do you conclude about the performance of the two models?\n",
        "##TODO##\n",
        "from scipy.stats import ttest_rel\n",
        "\n",
        "ttest_rel(acc_sk,acc_knn)\n",
        "##We reject null hypothesis that models are the same"
      ],
      "execution_count": null,
      "outputs": [
        {
          "output_type": "execute_result",
          "data": {
            "text/plain": [
              "Ttest_relResult(statistic=13.076696830622, pvalue=3.69168577492339e-07)"
            ]
          },
          "metadata": {
            "tags": []
          },
          "execution_count": 18
        }
      ]
    },
    {
      "cell_type": "markdown",
      "metadata": {
        "id": "Dbh10cHpqjSm"
      },
      "source": [
        "## Linear Regression\n",
        "In linear regression we make the assumption that the data $(x_i, y_i)$ can be modelled by a function of the form\n",
        "$$ \\hat{y_i} = f(\\vec{x}_i)= \\sum_j a_j x_{ij}  + b_i$$\n",
        "\n",
        "Recall that we can express this in a matrix format by:\n",
        "$$ \\hat{\\vec{y}} = f(X)= X\\Theta$$\n",
        "\n",
        "where \n",
        "$$ X=\\begin{pmatrix}\n",
        "x_{1,1} & x_{1,2} & \\ldots & x_{1,n} &1 \\\\\n",
        "\\vdots & \\vdots & \\ldots & \\vdots & \\vdots \\\\\n",
        "x_{N,1} & x_{N,2} & \\ldots & x_{N,n} & 1\n",
        "\\end{pmatrix}, \\quad \\vec{y}=\\begin{pmatrix} y_1 \\\\ \\vdots \\\\y_N \\end{pmatrix}, \\quad \\Theta=\\begin{pmatrix} a_1 \\\\ \\vdots \\\\a_n\\\\b \\end{pmatrix}$$\n",
        "\n",
        "We saw in lectures that the optimal value of $\\Theta$ is given by setting\n",
        "$$ \\Theta = (X^T X)^{-1} X^T \\vec{y}$$\n",
        "\n",
        "The quantity $(X^T X)^{-1} X^T$ is called the psuedoinverse of X, and can be computed using the function `np.linalg.pinv`.\n",
        "\n",
        "We will (a) perform a linear regression on the diabetes dataset. You can load this dataset using the function `load_diabetes` from `sklearn.datasets`. (b) compute the mean squared error and the R^2, and (c) compare your results with the built in function in sklearn (`sklearn.linear_model.LinearRegresion()`). You should get the same results."
      ]
    },
    {
      "cell_type": "code",
      "metadata": {
        "id": "Yokw9h5aqjSm"
      },
      "source": [
        "# import statments here\n",
        "from sklearn import datasets, linear_model\n",
        "from sklearn.model_selection import train_test_split\n",
        "from sklearn.metrics import mean_squared_error, r2_score"
      ],
      "execution_count": null,
      "outputs": []
    },
    {
      "cell_type": "markdown",
      "metadata": {
        "id": "9gw6aTZyqjSm"
      },
      "source": [
        "## Part (a) Implementing linear regression"
      ]
    },
    {
      "cell_type": "code",
      "metadata": {
        "id": "TwikSG65qjSn"
      },
      "source": [
        "# Load the diabetes dataset \n",
        "\n",
        "dia_dataset = datasets.load_diabetes()\n",
        "\n",
        "x = dia_dataset.data\n",
        "y = dia_dataset.target\n",
        "\n",
        "# Split the dataset into training and test, using test_size=0.2\n",
        "\n",
        "Xtrain, Xtest, Ytrain, Ytest =  train_test_split(x, y, test_size=0.2, random_state=10)"
      ],
      "execution_count": null,
      "outputs": []
    },
    {
      "cell_type": "code",
      "metadata": {
        "colab": {
          "base_uri": "https://localhost:8080/"
        },
        "id": "b5Rvev2EwVte",
        "outputId": "1cc49817-bc3e-4ed8-95d6-5d6dcca17d4b"
      },
      "source": [
        "# Add a column of ones to Xtrain and Xtest for the intercept term\n",
        "\n",
        "Xtr_mat = (Xtrain)\n",
        "print(Xtr_mat.shape)\n",
        "print(Xtr_mat)\n",
        "\n",
        "ones =  np.ones((len(Xtr_mat)))\n",
        "\n",
        "Xtr_mat = np.c_[Xtr_mat, ones ]              #join matrices\n",
        "#print(X[-1,:])\n",
        "print(Xtr_mat.shape)\n",
        "#print(Xtr_mat)\n"
      ],
      "execution_count": null,
      "outputs": [
        {
          "output_type": "stream",
          "text": [
            "(353, 10)\n",
            "[[ 0.00538306 -0.04464164  0.05954058 ...  0.05091436 -0.00421986\n",
            "  -0.03007245]\n",
            " [-0.02730979 -0.04464164  0.08001901 ...  0.00331192 -0.02952762\n",
            "   0.03620126]\n",
            " [ 0.0090156  -0.04464164 -0.02452876 ... -0.00259226 -0.02139368\n",
            "   0.00720652]\n",
            " ...\n",
            " [-0.05273755  0.05068012 -0.01806189 ...  0.1081111   0.03605579\n",
            "  -0.04249877]\n",
            " [-0.00551455  0.05068012 -0.00836158 ... -0.00259226  0.08058546\n",
            "   0.00720652]\n",
            " [-0.03457486  0.05068012 -0.02560657 ... -0.01550765  0.01482271\n",
            "   0.04034337]]\n",
            "(353, 11)\n"
          ],
          "name": "stdout"
        }
      ]
    },
    {
      "cell_type": "code",
      "metadata": {
        "id": "kGScesUhqjSo",
        "colab": {
          "base_uri": "https://localhost:8080/"
        },
        "outputId": "588b00dc-62e5-4fd1-c56b-d4bb61f8f715"
      },
      "source": [
        "# Calculate the value of the coefficients theta. You can use the function np.linalg.pinv\n",
        "##TODO##\n",
        "\n",
        "Ytr_mat = Ytrain\n",
        "Ytr_mat = Ytr_mat[..., None]\n",
        "print(Ytr_mat.shape)\n",
        "\n",
        "#Coefficients = theta\n",
        "pseude_inv = np.linalg.pinv(Xtr_mat)\n",
        "print(pseude_inv.shape)\n",
        "Theta = np.matmul(pseude_inv, Ytr_mat)\n",
        "print(Theta.shape)\n",
        "print(Theta)"
      ],
      "execution_count": null,
      "outputs": [
        {
          "output_type": "stream",
          "text": [
            "(353, 1)\n",
            "(11, 353)\n",
            "(11, 1)\n",
            "[[  -3.89155188]\n",
            " [-225.62880027]\n",
            " [ 517.89525355]\n",
            " [ 328.32132183]\n",
            " [-727.23345563]\n",
            " [ 410.96799392]\n",
            " [  80.26601137]\n",
            " [ 218.18738355]\n",
            " [ 704.2805541 ]\n",
            " [  40.02247238]\n",
            " [ 152.25550535]]\n"
          ],
          "name": "stdout"
        }
      ]
    },
    {
      "cell_type": "markdown",
      "metadata": {
        "id": "_1y0ZSkEqjSp"
      },
      "source": [
        "## Part (b) Computing performance metrics"
      ]
    },
    {
      "cell_type": "code",
      "metadata": {
        "id": "QULSPmpQqjSp",
        "colab": {
          "base_uri": "https://localhost:8080/"
        },
        "outputId": "4dfd258f-c912-4035-bd98-a1103bf43192"
      },
      "source": [
        "# Make a prediction on the test set by applying the coefficients theta to the test set\n",
        "##TODO##\n",
        "\n",
        "\n",
        "Xtest_mat = np.c_[Xtest, np.ones((len(Xtest))) ]              #join matrices\n",
        "#print(X[-1,:])\n",
        "print(Xtr_mat.shape)\n",
        "#print(Xtr_mat)\n",
        "\n",
        "\n",
        "Ypred = np.matmul(Xtest_mat,Theta)\n",
        "print(Ypred.shape)\n",
        "#print(Ypred)\n"
      ],
      "execution_count": null,
      "outputs": [
        {
          "output_type": "stream",
          "text": [
            "(353, 11)\n",
            "(89, 1)\n"
          ],
          "name": "stdout"
        }
      ]
    },
    {
      "cell_type": "code",
      "metadata": {
        "id": "kMJzzUuaqjSp",
        "colab": {
          "base_uri": "https://localhost:8080/"
        },
        "outputId": "c0f5d0fc-9001-4d8e-da36-d2fa4659e94f"
      },
      "source": [
        "# Calculate the mean squared error and the R^2. \n",
        "# You can use the built in functions from sklearn\n",
        "##TODO##\n",
        "from sklearn.metrics import mean_squared_error\n",
        "\n",
        "\n",
        "mse_reg = mean_squared_error(Ytest,Ypred)\n",
        "print(mse_reg)\n",
        "\n",
        "\n",
        "r2_reg = r2_score(Ytest,Ypred)\n",
        "print(r2_reg)\n",
        "\n"
      ],
      "execution_count": null,
      "outputs": [
        {
          "output_type": "stream",
          "text": [
            "2911.827951689161\n",
            "0.5341962544929233\n"
          ],
          "name": "stdout"
        }
      ]
    },
    {
      "cell_type": "markdown",
      "metadata": {
        "id": "6smSWNwpqjSq"
      },
      "source": [
        "## Part (c) Checking results\n",
        "Compare your results with the built in function `sklearn.linear_model.LinearRegression()`"
      ]
    },
    {
      "cell_type": "code",
      "metadata": {
        "id": "oWXAKURKqjSq"
      },
      "source": [
        "# Instantiate the linear regression\n",
        "##TODO##\n",
        "\n",
        "from sklearn.linear_model import LinearRegression\n",
        "\n",
        "lr = LinearRegression()\n"
      ],
      "execution_count": null,
      "outputs": []
    },
    {
      "cell_type": "code",
      "metadata": {
        "id": "nO6HkBZ3qjSq",
        "colab": {
          "base_uri": "https://localhost:8080/"
        },
        "outputId": "da4cf869-4b0a-480c-fc9e-fceedce231ec"
      },
      "source": [
        "# Fit the model and make a prediction on the test set. Compare with your implementation\n",
        "##TODO##\n",
        "\n",
        "lr.fit(Xtrain,Ytrain)\n",
        "\n",
        "Ypred_sk = lr.predict(Xtest)\n",
        "\n",
        "mse_reg = mean_squared_error(Ytest,Ypred_sk)\n",
        "print(mse_reg)\n",
        "\n",
        "\n",
        "r2_reg = r2_score(Ytest,Ypred_sk)\n",
        "print(r2_reg)"
      ],
      "execution_count": null,
      "outputs": [
        {
          "output_type": "stream",
          "text": [
            "2911.827951689161\n",
            "0.5341962544929233\n"
          ],
          "name": "stdout"
        }
      ]
    },
    {
      "cell_type": "markdown",
      "metadata": {
        "id": "2nn0LyGpqjSq"
      },
      "source": [
        "Visualise the perfomance of the regression by plotting your predicted values vs target values on a scatter plot, and drawing a line y=x. If all predictions were perfect, the predicted values would lie on the line."
      ]
    },
    {
      "cell_type": "code",
      "metadata": {
        "id": "_dAR4kEmqjSr",
        "colab": {
          "base_uri": "https://localhost:8080/",
          "height": 265
        },
        "outputId": "f37dcde8-9bf6-44d7-a8d6-9d2328fb07e1"
      },
      "source": [
        "# Plot predicted values vs target values on a scatter plot, and drawing a line y=x\n",
        "## TODO##\n",
        "\n",
        "plt.scatter(Ypred, Ytest)\n",
        "\n",
        "x = np.linspace(0, 300, 30)\n",
        "y = x\n",
        "plt.plot(x,y)\n",
        "\n",
        "plt.show()\n"
      ],
      "execution_count": null,
      "outputs": [
        {
          "output_type": "display_data",
          "data": {
            "image/png": "[encoded data removed]",
            "text/plain": [
              "<Figure size 432x288 with 1 Axes>"
            ]
          },
          "metadata": {
            "tags": [],
            "needs_background": "light"
          }
        }
      ]
    },
    {
      "cell_type": "markdown",
      "metadata": {
        "id": "j__-clmgqjSr"
      },
      "source": [
        "# Extra question: Polynomial regression\n",
        "The term 'linear' in linear regression refers only to the coefficients $\\theta$. We can in fact compute polynomial terms in the data and perform linear regression over this extended dataset to get a better fit to the data.\n",
        "\n",
        "To compute polynomial terms in the data automatically, you can use the class `sklearn.preprocessing.PolynomialFeatures`. To find out how to use it, look at the guidance (you can type `help(PolynomialFeatures)` once you have imported it).\n",
        "\n",
        "The following small dataset (in the cell below) gives a relationship between temperature and yield for an experiment. Use cross-validation to select the degree of the polynomial that best fits this data.\n",
        "\n",
        "Plot the mean squared error against degree on the training set and on the validation set. Which degree of polynomial best fits this data?"
      ]
    },
    {
      "cell_type": "code",
      "metadata": {
        "id": "mfHz3lMDqjSr",
        "colab": {
          "base_uri": "https://localhost:8080/"
        },
        "outputId": "b5a03428-afad-4cba-c54e-110e6325eba0"
      },
      "source": [
        "# Data\n",
        "print(X)"
      ],
      "execution_count": null,
      "outputs": [
        {
          "output_type": "stream",
          "text": [
            "[[ 50]\n",
            " [ 50]\n",
            " [ 50]\n",
            " [ 70]\n",
            " [ 70]\n",
            " [ 70]\n",
            " [ 80]\n",
            " [ 80]\n",
            " [ 80]\n",
            " [ 90]\n",
            " [ 90]\n",
            " [ 90]\n",
            " [100]\n",
            " [100]\n",
            " [100]]\n"
          ],
          "name": "stdout"
        }
      ]
    },
    {
      "cell_type": "code",
      "metadata": {
        "id": "Ebg3Pp93qjSs"
      },
      "source": [
        "from sklearn.preprocessing import PolynomialFeatures\n",
        "from sklearn.model_selection import KFold\n",
        "import numpy as np\n",
        "import matplotlib.pyplot as plt\n",
        "from sklearn.model_selection import train_test_split\n",
        "from sklearn.linear_model import LinearRegression\n",
        "from sklearn import datasets, linear_model\n",
        "from sklearn.model_selection import train_test_split\n",
        "from sklearn.metrics import mean_squared_error, r2_score\n",
        "\n",
        "x = np.array([50,50,50,70,70,70,80,80,80,90,90,90,100,100,100]).reshape(-1, 1)\n",
        "y = np.array([3.3,2.8,2.9,2.3,2.6,2.1,2.5,2.9,2.4,3,3.1,2.8,3.3,3.5,3]).reshape(-1, 1)"
      ],
      "execution_count": null,
      "outputs": []
    },
    {
      "cell_type": "code",
      "metadata": {
        "id": "Mnn-lCnRqjSs",
        "colab": {
          "base_uri": "https://localhost:8080/"
        },
        "outputId": "1cac5d02-b641-45f8-d80e-0c06e1ccc749"
      },
      "source": [
        "kf = KFold(n_splits=2,random_state=123,shuffle=True)\n",
        "\n",
        "max_k = 10\n",
        "\n",
        "tr_mse = [[] for _ in range(max_k)]\n",
        "val_mse = [[] for _ in range(max_k)]\n",
        "\n",
        "\n",
        "\n",
        "xtr, xtest, ytr, ytest = train_test_split(x, y, test_size=0.2, random_state=0)\n",
        "xtrain, xval, ytrain, yval = train_test_split(xtr, ytr, test_size=0.2, random_state=0)\n",
        "\n",
        "\n",
        "# Loop over the values of k: \n",
        "for k in range(max_k):\n",
        "  \n",
        "    \n",
        "  poly = PolynomialFeatures(k+1)\n",
        "  clf = linear_model.LinearRegression()\n",
        "\n",
        "\n",
        "  #Transform from polynomial to linear\n",
        "  xtrain_poly = poly.fit_transform(xtrain)  #Huh\n",
        "  xval_poly = poly.fit_transform(xval)\n",
        "  #Perform regression\n",
        "  clf.fit(xtrain_poly, ytrain)\n",
        "  #Predict for training and validation\n",
        "  pred_ytrain = clf.predict(xtrain_poly)\n",
        "  pred_yval = clf.predict(xval_poly)\n",
        "  #Store results\n",
        "  tr_mse[k].append(mean_squared_error( pred_ytrain, ytrain))\n",
        "  val_mse[k].append(mean_squared_error(pred_yval, yval))\n",
        "      \n",
        "\n",
        "# Calculate the mean training and validation accuracies across splits for each 𝑘\n",
        "##TODO##\n",
        "\n",
        "#print(tr_mse[0:max_k-1])\n",
        "mean_tr_acc = np.mean(tr_mse, axis=1)\n",
        "mean_val_acc = np.mean(val_mse,axis=1)\n",
        "\n",
        "print(mean_tr_acc)\n",
        "print(mean_val_acc)\n",
        "#print(mean_val_acc.argmin())\n"
      ],
      "execution_count": null,
      "outputs": [
        {
          "output_type": "stream",
          "text": [
            "[0.13344162 0.05442385 0.02814815 0.02814815 0.02814815 0.02814815\n",
            " 0.02814815 0.02814815 0.02814815 0.02814815]\n",
            "[0.22580054 0.06644713 0.13644815 0.14300691 0.15151195 0.162607\n",
            " 0.17716466 0.1963642  0.22179229 0.25557397]\n"
          ],
          "name": "stdout"
        }
      ]
    },
    {
      "cell_type": "code",
      "metadata": {
        "id": "Z4m65jUZqjSs",
        "colab": {
          "base_uri": "https://localhost:8080/",
          "height": 296
        },
        "outputId": "67353ed2-843b-4fa0-903d-6e96f96e2159"
      },
      "source": [
        "plt.plot(range(0, max_k), tr_mse, label='Training')\n",
        "plt.plot(range(0, max_k), val_mse, label='Validation')\n",
        "plt.legend()\n",
        "plt.xlabel('Degree')\n",
        "plt.ylabel('MSE')"
      ],
      "execution_count": null,
      "outputs": [
        {
          "output_type": "execute_result",
          "data": {
            "text/plain": [
              "Text(0, 0.5, 'MSE')"
            ]
          },
          "metadata": {
            "tags": []
          },
          "execution_count": 16
        },
        {
          "output_type": "display_data",
          "data": {
            "image/png": "[encoded data removed]",
            "text/plain": [
              "<Figure size 432x288 with 1 Axes>"
            ]
          },
          "metadata": {
            "tags": [],
            "needs_background": "light"
          }
        }
      ]
    }
  ]
}