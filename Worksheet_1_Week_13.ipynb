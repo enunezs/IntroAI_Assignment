{
  "nbformat": 4,
  "nbformat_minor": 0,
  "metadata": {
    "kernelspec": {
      "display_name": "Python 3",
      "language": "python",
      "name": "python3"
    },
    "language_info": {
      "codemirror_mode": {
        "name": "ipython",
        "version": 3
      },
      "file_extension": ".py",
      "mimetype": "text/x-python",
      "name": "python",
      "nbconvert_exporter": "python",
      "pygments_lexer": "ipython3",
      "version": "3.9.1"
    },
    "colab": {
      "name": "Worksheet 1 Week 13.ipynb",
      "provenance": [],
      "collapsed_sections": [],
      "include_colab_link": true
    }
  },
  "cells": [
    {
      "cell_type": "markdown",
      "metadata": {
        "id": "view-in-github",
        "colab_type": "text"
      },
      "source": [
        "<a href=\"https://colab.research.google.com/github/enunezs/IntroAI_Assignment/blob/main/Worksheet_1_Week_13.ipynb\" target=\"_parent\"><img src=\"https://colab.research.google.com/assets/colab-badge.svg\" alt=\"Open In Colab\"/></a>"
      ]
    },
    {
      "cell_type": "markdown",
      "metadata": {
        "id": "yL67Gnd8lPWw"
      },
      "source": [
        "# Introduction\n",
        "This worksheet covers material from week 13. You will write functions to implement evaluation metrics for classification and regression problems, and run cross-validation. You will:\n",
        " - Use library functions from scikit-learn (https://scikit-learn.org/stable/)\n",
        " - Use NumPy and matplotlib\n",
        " - Write and call functions in Python\n",
        " - Gain understanding of the evaluation metrics used.\n",
        "\n",
        "\n",
        "Scikit-learn (https://scikit-learn.org/stable/) is a Python library with a wide range of ML algorithms. We will be using some of these algorithms during this course, but we will also be looking at the principles behind the algorithms in order to understand these rather than simply applying functions from libraries.\n",
        "\n",
        "## If you don't know Python, NumPy, matplotlib\n",
        "Please work through the Introduction to Python worksheet available on Blackboard"
      ]
    },
    {
      "cell_type": "markdown",
      "metadata": {
        "id": "2ajp35WflPW9"
      },
      "source": [
        "# 0. Preliminaries\n",
        "We firstly import NumPy and matplotlib as we will be using these throughout the worksheet. We use a 'magic' function `%matplotlib inline` to display plots in the worksheet."
      ]
    },
    {
      "cell_type": "code",
      "metadata": {
        "id": "92m9lbRflPW-"
      },
      "source": [
        "import numpy as np\n",
        "import matplotlib.pyplot as plt\n",
        "%matplotlib inline\n"
      ],
      "execution_count": null,
      "outputs": []
    },
    {
      "cell_type": "markdown",
      "metadata": {
        "id": "2U5H12sClPXC"
      },
      "source": [
        "# 1. Classification\n",
        "In this question you will use a toy dataset from scikit-learn. You will use functions from scikit-learn to load the data, divide it into training and testing sets, and then fit a simple classifier to the training set. You will then write functions to calculate accuracy, precision, and recall. Finally, you will check your functions against the functions from scikit-learn.\n",
        "\n",
        "## Part a) Load the data"
      ]
    },
    {
      "cell_type": "code",
      "metadata": {
        "id": "SUDKsmy7lPXD"
      },
      "source": [
        "# scikit-learn comes with a number of toy datasets \n",
        "# (https://sklearn.org/datasets/index.html#toy-datasets)\n",
        "from sklearn import datasets\n",
        "\n",
        "# Load the wine dataset from sklearn. You may want to take a look at \n",
        "# the format of the dataset\n",
        "wine = datasets.load_wine()\n",
        "\n",
        "# Save the datapoints into the variable X and the targets into \n",
        "# the variable y\n",
        "X = wine.data\n",
        "y = wine.target"
      ],
      "execution_count": null,
      "outputs": []
    },
    {
      "cell_type": "markdown",
      "metadata": {
        "id": "0aFfnJYwlPXE"
      },
      "source": [
        "Take a look at the target values in y. What do you notice about these? Why are these suitable for a classification algorithm rather than a regression algorithm?"
      ]
    },
    {
      "cell_type": "code",
      "metadata": {
        "colab": {
          "base_uri": "https://localhost:8080/"
        },
        "id": "98ioNkHWlPXG",
        "outputId": "cac4f34c-df00-44c2-c1ef-c221cc38c1af"
      },
      "source": [
        "#  Look at the values in y\n",
        "##TODO###\n",
        "print(np.size(X,0)) # Just numbers\n",
        "print(np.size(X,1)) # Just numbers\n",
        "print(X)\n",
        "print(len(y)) # Labels! Not one-to-one mapping will result in bad regression\n",
        "#Classification task\n",
        "print(y)\n"
      ],
      "execution_count": null,
      "outputs": [
        {
          "output_type": "stream",
          "text": [
            "178\n",
            "13\n",
            "[[1.423e+01 1.710e+00 2.430e+00 ... 1.040e+00 3.920e+00 1.065e+03]\n",
            " [1.320e+01 1.780e+00 2.140e+00 ... 1.050e+00 3.400e+00 1.050e+03]\n",
            " [1.316e+01 2.360e+00 2.670e+00 ... 1.030e+00 3.170e+00 1.185e+03]\n",
            " ...\n",
            " [1.327e+01 4.280e+00 2.260e+00 ... 5.900e-01 1.560e+00 8.350e+02]\n",
            " [1.317e+01 2.590e+00 2.370e+00 ... 6.000e-01 1.620e+00 8.400e+02]\n",
            " [1.413e+01 4.100e+00 2.740e+00 ... 6.100e-01 1.600e+00 5.600e+02]]\n",
            "178\n",
            "[0 0 0 0 0 0 0 0 0 0 0 0 0 0 0 0 0 0 0 0 0 0 0 0 0 0 0 0 0 0 0 0 0 0 0 0 0\n",
            " 0 0 0 0 0 0 0 0 0 0 0 0 0 0 0 0 0 0 0 0 0 0 1 1 1 1 1 1 1 1 1 1 1 1 1 1 1\n",
            " 1 1 1 1 1 1 1 1 1 1 1 1 1 1 1 1 1 1 1 1 1 1 1 1 1 1 1 1 1 1 1 1 1 1 1 1 1\n",
            " 1 1 1 1 1 1 1 1 1 1 1 1 1 1 1 1 1 1 1 2 2 2 2 2 2 2 2 2 2 2 2 2 2 2 2 2 2\n",
            " 2 2 2 2 2 2 2 2 2 2 2 2 2 2 2 2 2 2 2 2 2 2 2 2 2 2 2 2 2 2]\n"
          ],
          "name": "stdout"
        }
      ]
    },
    {
      "cell_type": "markdown",
      "metadata": {
        "id": "EKmxkZTblPXH"
      },
      "source": [
        "## Part b) Divide the data into training and testing sets\n",
        "Use the function `train_test_split` from `sklearn.model_selection` to split out the data and targets into training and testing sets."
      ]
    },
    {
      "cell_type": "code",
      "metadata": {
        "id": "V1t9T-95lPXI"
      },
      "source": [
        "# We import the function train_test_split from sklearn and use this to \n",
        "# split the data\n",
        "from sklearn.model_selection import train_test_split\n",
        "\n",
        "# The function returns splits of each array passed in. \n",
        "# The proportion to be used as the training set is given by test_size\n",
        "X_train, X_test, y_train, y_test = train_test_split(X, y, test_size=0.2)"
      ],
      "execution_count": null,
      "outputs": []
    },
    {
      "cell_type": "markdown",
      "metadata": {
        "id": "lVKb7_1IlPXI"
      },
      "source": [
        "## Part c) Import the k-nearest neighbours classifier and run it on the data\n",
        "Scikit-learn has a huge range of *estimators* that you can use with your dataset. An estimator is any procedure that *can be used to fit data and make predictions from it.* \n",
        "Here we will import the **k-nearest** neighbours classifier, instantiate it, run it on our training set, and then use it to generate some predictions. \n",
        "You will learn more about k-nearest neighbours in Week 14. \n",
        "For now, we are simply using it to generate some predictions.\n",
        "\n",
        "The general procedure for using the estimators in scikit-learn is as follows. Every estimator has a method `fit(X, y)` and a method `predict(T)`. \n",
        "\n",
        "1) Import the estimator\n",
        "    e.g. `from sklearn.models import Classifier`\n",
        "    \n",
        "2) Instantiate the estimator to a variable\n",
        "    e.g. `est = Classifier(params)`\n",
        "    \n",
        "3) Fit the estimator to the data\n",
        "    e.g. `est.fit(X, y)`\n",
        "    \n",
        "4) Make a prediction\n",
        "    e.g. `predictions = est.predict(test_data)`\n",
        "    \n",
        "You can see an example of this in the code below:"
      ]
    },
    {
      "cell_type": "code",
      "metadata": {
        "scrolled": true,
        "id": "E3A0BxnRlPXK"
      },
      "source": [
        "# We first import the classifier\n",
        "from sklearn.neighbors import KNeighborsClassifier\n",
        "\n",
        "# We instantiate the classifier with 5 neighbours\n",
        "knn = KNeighborsClassifier(n_neighbors=5) # Shouldnt it be 3?\n",
        "\n",
        "# We fit the model using our training data\n",
        "knn.fit(X_train, y_train)\n",
        "\n",
        "# Finally, we generate predictions on the test data\n",
        "ypred_test=knn.predict(X_test)"
      ],
      "execution_count": null,
      "outputs": []
    },
    {
      "cell_type": "markdown",
      "metadata": {
        "id": "hSoRabmslPXM"
      },
      "source": [
        "## Part d) Evaluating the classifier\n",
        "In this section we will implement functions for accuracy, precision and recall, and compare them with the functions given in sklearn (they should give the same results!)\n",
        "\n",
        "The wine dataset has 3 classes. We will write functions to compute the accuracy of the classifer, the macro-averaged precision and the macro-averaged recall.\n",
        "\n",
        "Recall the equations for accuracy, precision, and recall:\n",
        "\n",
        "$$Accuracy = \\frac{\\sum_{i = 1}^n 1(y_i = f(x_i))}{n}$$\n",
        "i.e. the number of correctly classified datapoints as a proportion of all $n$ datapoints\n",
        "\n",
        "$$Precision_c = \\frac{TP_c}{TP_c+FP_c}$$\n",
        "i.e. the precision for class $c$ is the number of true positives for class $c$ as a proportion of the total number of positive predictions for class $c$\n",
        "\n",
        "$$Recall_c = \\frac{TP_c}{TP_c+FN_c}$$\n",
        "i.e. the recall for class $c$ is the number of true positives for class $c$ as a proportion of the total number of actual positives for class $c$\n",
        "\n",
        "The macro-averaged precision and macro-averaged recall are then simply calculated by averaging the precision (or recall) for each class:\n",
        "\n",
        "$$Precision = \\frac{1}{k} \\sum_{i = 1}^k Precision_k, \\quad Recall = \\frac{1}{k} \\sum_{i = 1}^k Recall_k$$\n",
        "\n",
        "We can automatically generate the confusion matrix for our data using the function `confusion_matrix` from `sklearn.metrics`"
      ]
    },
    {
      "cell_type": "code",
      "metadata": {
        "id": "ns3UC7EilPXM"
      },
      "source": [
        "# Import the function confusion_matrix\n",
        "from sklearn.metrics import confusion_matrix\n",
        "\n",
        "# Build the confusion matrix from the target test set y_test \n",
        "# and our predicted values ypred_test\n",
        "cm = confusion_matrix(y_test, ypred_test)\n"
      ],
      "execution_count": null,
      "outputs": []
    },
    {
      "cell_type": "markdown",
      "metadata": {
        "id": "8aBgC3kelPXM"
      },
      "source": [
        "Take a look at the confusion matrix. What should its dimensions be? "
      ]
    },
    {
      "cell_type": "code",
      "metadata": {
        "colab": {
          "base_uri": "https://localhost:8080/"
        },
        "id": "UVpX8LA8lPXN",
        "outputId": "15dc5ef0-ffc8-4d54-93aa-17288825d0c7"
      },
      "source": [
        "# Look at the confusion matrix cm\n",
        "\n",
        "print(cm)\n",
        "\n",
        "print('Array is ' + str(len(cm)) + ' by ' + str(len(cm[0])))"
      ],
      "execution_count": null,
      "outputs": [
        {
          "output_type": "stream",
          "text": [
            "[[17  0  0]\n",
            " [ 0  9  1]\n",
            " [ 2  2  5]]\n",
            "Array is 3 by 3\n"
          ],
          "name": "stdout"
        }
      ]
    },
    {
      "cell_type": "markdown",
      "metadata": {
        "id": "c2OE4ek0lPXN"
      },
      "source": [
        "Write a function `my_accuracy` that takes in two arrays `y` for target values and `pred` for predicted  values, and returns accuracy."
      ]
    },
    {
      "cell_type": "code",
      "metadata": {
        "id": "idW6i9JylPXN"
      },
      "source": [
        "def my_accuracy(y, pred):\n",
        "    acc=0\n",
        "    correct = 0 \n",
        "\n",
        "    for i in range(len(y)):\n",
        "      if y[i] == pred[i]: #True\n",
        "        correct = correct + 1\n",
        "    return correct / (len(y))"
      ],
      "execution_count": null,
      "outputs": []
    },
    {
      "cell_type": "markdown",
      "metadata": {
        "id": "vg2o39UtlPXO"
      },
      "source": [
        "Write a function `my_recall_macro` that takes in two arrays `y` for target values and `pred` for predicted  values, and returns recall. "
      ]
    },
    {
      "cell_type": "code",
      "metadata": {
        "id": "zPR4L7FwlPXO"
      },
      "source": [
        "def my_recall_macro(y, pred):\n",
        "    recall=0\n",
        "    cm = confusion_matrix(y, pred)\n",
        "\n",
        "    for i in range(len(cm)):\n",
        "      recall = recall + (cm[i,i])/sum(cm[i,:])\n",
        "    recall = recall/len(cm)\n",
        "    return recall      "
      ],
      "execution_count": null,
      "outputs": []
    },
    {
      "cell_type": "markdown",
      "metadata": {
        "id": "O3BdV0M_lPXP"
      },
      "source": [
        "Write a function `my_precision_macro` that takes in two arrays `y` for target values and `pred` for predicted  values, and returns precision. "
      ]
    },
    {
      "cell_type": "code",
      "metadata": {
        "id": "RnmHYQuvlPXP"
      },
      "source": [
        "def my_precision_macro(y, pred):\n",
        "    precision=0\n",
        "    cm = confusion_matrix(y, pred)\n",
        "\n",
        "    for i in range(len(cm)):\n",
        "      precision = precision + (cm[i,i])/sum(cm[:,i])\n",
        "    precision = precision/len(cm)\n",
        "    return precision   "
      ],
      "execution_count": null,
      "outputs": []
    },
    {
      "cell_type": "markdown",
      "metadata": {
        "id": "vD0KozzDlPXQ"
      },
      "source": [
        "Check that your functions match those in sklearn."
      ]
    },
    {
      "cell_type": "code",
      "metadata": {
        "colab": {
          "base_uri": "https://localhost:8080/"
        },
        "id": "qHlehFF3lPXR",
        "outputId": "b3155620-2c73-46e4-e298-b345c71f56f6"
      },
      "source": [
        "from sklearn.metrics import precision_score, recall_score, accuracy_score\n",
        "my_accuracy(y_test, ypred_test) == accuracy_score(y_test, ypred_test) # :っD"
      ],
      "execution_count": null,
      "outputs": [
        {
          "output_type": "execute_result",
          "data": {
            "text/plain": [
              "True"
            ]
          },
          "metadata": {
            "tags": []
          },
          "execution_count": 11
        }
      ]
    },
    {
      "cell_type": "code",
      "metadata": {
        "colab": {
          "base_uri": "https://localhost:8080/"
        },
        "id": "p-do7jGclPXR",
        "outputId": "f31cda2c-eea8-4e17-80f5-98b62d021934"
      },
      "source": [
        "my_recall_macro(y_test, ypred_test)== \\\n",
        "    recall_score(y_test, ypred_test, average='macro')\n",
        "print(my_recall_macro(y_test, ypred_test))\n",
        "print(recall_score(y_test, ypred_test, average='macro'))"
      ],
      "execution_count": null,
      "outputs": [
        {
          "output_type": "stream",
          "text": [
            "0.8185185185185185\n",
            "0.8185185185185185\n"
          ],
          "name": "stdout"
        }
      ]
    },
    {
      "cell_type": "code",
      "metadata": {
        "colab": {
          "base_uri": "https://localhost:8080/"
        },
        "id": "2qKl4xchlPXS",
        "outputId": "8059b407-f7cf-47c4-ae96-fe931106ebf5"
      },
      "source": [
        "my_precision_macro(y_test, ypred_test)== \\\n",
        "    precision_score(y_test, ypred_test, average='macro')\n",
        "print(my_precision_macro(y_test, ypred_test))\n",
        "print(precision_score(y_test, ypred_test, average='macro'))"
      ],
      "execution_count": null,
      "outputs": [
        {
          "output_type": "stream",
          "text": [
            "0.8487506645401383\n",
            "0.8487506645401383\n"
          ],
          "name": "stdout"
        }
      ]
    },
    {
      "cell_type": "markdown",
      "metadata": {
        "id": "03SIGxajlPXT"
      },
      "source": [
        "# 2. Regression\n",
        "\n",
        "In this question we will use sklearn to fit a linear model to some artificial data. You will then implement a function to calculate the mean squared error and a function to calculate $r^2$.\n",
        "\n",
        "## Part a) Create an artificial dataset\n",
        "We start off by creating some artificial data.    "
      ]
    },
    {
      "cell_type": "code",
      "metadata": {
        "id": "GroUr2cjlPXT"
      },
      "source": [
        "# We set up a random number generator (rng), seeded with a number \n",
        "# (in this case 10). Using a seed means we can generate the same \n",
        "# sequence of pseudorandom numbers, and so we can check results easily.\n",
        "rng = np.random.default_rng(10) \n",
        "\n",
        "# a and b are coefficients for the line\n",
        "a = 2\n",
        "b = -1\n",
        "\n",
        "# Use np.linspace to generate datapoints from 0 to 10 spaced at 0.1\n",
        "X = np.linspace(0, 10, 101) \n",
        "\n",
        "# Create data Y using the equation for a line\n",
        "Y = a*X + b\n",
        "\n",
        "# Adds Gaussian noise with mean 0 and standard deviation 3 to the data\n",
        "Y = Y + 3*rng.standard_normal(len(Y)) "
      ],
      "execution_count": null,
      "outputs": []
    },
    {
      "cell_type": "markdown",
      "metadata": {
        "id": "OUbkTC9nlPXV"
      },
      "source": [
        "## Part b) Plot the data on named axes"
      ]
    },
    {
      "cell_type": "code",
      "metadata": {
        "colab": {
          "base_uri": "https://localhost:8080/",
          "height": 299
        },
        "id": "Cv-p4w_1lPXW",
        "outputId": "422b049c-6181-4346-f4de-0ee1da697c78"
      },
      "source": [
        "fig, ax = plt.subplots() # Generates a named figure (fig) and axes (ax)\n",
        "ax.scatter(X, Y, label = 'Data') # Scatterplot of the data on the ax.\n",
        "plt.xlabel('x')\n",
        "plt.ylabel('y')"
      ],
      "execution_count": null,
      "outputs": [
        {
          "output_type": "execute_result",
          "data": {
            "text/plain": [
              "Text(0, 0.5, 'y')"
            ]
          },
          "metadata": {
            "tags": []
          },
          "execution_count": 15
        },
        {
          "output_type": "display_data",
          "data": {
            "image/png": "[encoded data removed]",
            "text/plain": [
              "<Figure size 432x288 with 1 Axes>"
            ]
          },
          "metadata": {
            "tags": [],
            "needs_background": "light"
          }
        }
      ]
    },
    {
      "cell_type": "markdown",
      "metadata": {
        "id": "JC18AGnDlPXX"
      },
      "source": [
        "## Part c) Split the data into training and testing sets\n",
        "Split the data X and targets Y into training and testing sets using the function `train_test_split`. Set the proportion of the dataset to use as test data to 0.1."
      ]
    },
    {
      "cell_type": "code",
      "metadata": {
        "id": "4DpES15alPXY"
      },
      "source": [
        "# Write your answer here\n",
        "X_train, X_test, y_train, y_test = train_test_split(X, Y, test_size=0.1)"
      ],
      "execution_count": null,
      "outputs": []
    },
    {
      "cell_type": "markdown",
      "metadata": {
        "id": "u5girP-slPXY"
      },
      "source": [
        "## Part d) Instantiate and fit the estimator\n",
        "Import the estimator `LinearRegression` from `sklearn.linear_model` and instantiate it. No parameters are needed."
      ]
    },
    {
      "cell_type": "code",
      "metadata": {
        "id": "LpKvugVylPXZ"
      },
      "source": [
        "# Write your answer here\n",
        "from sklearn.linear_model import LinearRegression \n",
        "\n",
        "# We instantiate the classifier with 5 neighbours\n",
        "linreg = LinearRegression() \n"
      ],
      "execution_count": null,
      "outputs": []
    },
    {
      "cell_type": "markdown",
      "metadata": {
        "id": "0UspvSE4lPXZ"
      },
      "source": [
        "You will need to reshape the data (but not the targets) before passing it to this model. "
      ]
    },
    {
      "cell_type": "code",
      "metadata": {
        "id": "FDBL6o-alPXa"
      },
      "source": [
        "# This reshapes the data to have 1 column and however many rows make \n",
        "# sense for the data\n",
        "X_train = X_train.reshape(-1, 1)"
      ],
      "execution_count": null,
      "outputs": []
    },
    {
      "cell_type": "markdown",
      "metadata": {
        "id": "5Q-PHX_1lPXb"
      },
      "source": [
        "Call the method `fit` with your training data to train the model"
      ]
    },
    {
      "cell_type": "code",
      "metadata": {
        "id": "KutIav-HlPXb",
        "colab": {
          "base_uri": "https://localhost:8080/"
        },
        "outputId": "826b6b01-8a4c-47e6-b20d-69c16dddb6d4"
      },
      "source": [
        "# Write your answer here\n",
        "\n",
        "# We fit the model using our training data\n",
        "linreg.fit(X_train, y_train)\n"
      ],
      "execution_count": null,
      "outputs": [
        {
          "output_type": "execute_result",
          "data": {
            "text/plain": [
              "LinearRegression(copy_X=True, fit_intercept=True, n_jobs=None, normalize=False)"
            ]
          },
          "metadata": {
            "tags": []
          },
          "execution_count": 19
        }
      ]
    },
    {
      "cell_type": "markdown",
      "metadata": {
        "id": "8QoPlwsHlPXc"
      },
      "source": [
        "The coefficient(s) and intercept for the trained model are called `coef_` and `intercept_`. Are these what you would expect? Are they similar to the values of `a` and `b` that we used to generate the data?"
      ]
    },
    {
      "cell_type": "code",
      "metadata": {
        "id": "X7iQk8JYlPXd",
        "colab": {
          "base_uri": "https://localhost:8080/"
        },
        "outputId": "609eeedc-d678-4a2f-dd42-ae4b70b0af52"
      },
      "source": [
        "# Look at coef_ and intercept_\n",
        "\n",
        "print('Original coefficient: ' + str(a) + ' regression coef: ' + str(linreg.coef_) )\n",
        "\n",
        "print('Original intersect: ' + str(b) + ' regression intersect: ' + str(linreg.intercept_) )\n",
        "##Intersect is off!\n"
      ],
      "execution_count": null,
      "outputs": [
        {
          "output_type": "stream",
          "text": [
            "Original coefficient: 2 regression coef: [2.09004637]\n",
            "Original intersect: -1 regression intersect: -2.1686082484283062\n"
          ],
          "name": "stdout"
        }
      ]
    },
    {
      "cell_type": "markdown",
      "metadata": {
        "id": "8cWw9YcDlPXd"
      },
      "source": [
        "Using the values stored in `coef_` and `intercept_`, plot a line representing the fitted model on the same axes (`ax`) as before. Type `fig` to view the plot."
      ]
    },
    {
      "cell_type": "code",
      "metadata": {
        "id": "zhqHyUXblPXd",
        "colab": {
          "base_uri": "https://localhost:8080/",
          "height": 299
        },
        "outputId": "d10e75fe-cb7c-49f0-fb10-5ea23aab3fa4"
      },
      "source": [
        "# Write your answer here \n",
        "\n",
        "x_val = np.linspace(0,10,100)\n",
        "y_val_orig = a*x_val+b\n",
        "y_val_reg = linreg.coef_*x_val+linreg.intercept_\n",
        "\n",
        "fig, ax = plt.subplots() # Generates a named figure (fig) and axes (ax)\n",
        "ax.scatter(X, Y, label = 'Data') # Scatterplot of the data on the ax.\n",
        "ax.plot(x_val,y_val_orig, label = 'Orig')\n",
        "ax.plot(x_val,y_val_reg, label = 'Reg')\n",
        "plt.xlabel('x')\n",
        "plt.ylabel('y')"
      ],
      "execution_count": null,
      "outputs": [
        {
          "output_type": "execute_result",
          "data": {
            "text/plain": [
              "Text(0, 0.5, 'y')"
            ]
          },
          "metadata": {
            "tags": []
          },
          "execution_count": 21
        },
        {
          "output_type": "display_data",
          "data": {
            "image/png": "[encoded data removed]",
            "text/plain": [
              "<Figure size 432x288 with 1 Axes>"
            ]
          },
          "metadata": {
            "tags": [],
            "needs_background": "light"
          }
        }
      ]
    },
    {
      "cell_type": "markdown",
      "metadata": {
        "id": "ZzpXMlq7lPXg"
      },
      "source": [
        "Reshape the test data to have one column and then call `predict` on the regression model to get the predicted y values"
      ]
    },
    {
      "cell_type": "code",
      "metadata": {
        "id": "Htp5MaR2lPXg"
      },
      "source": [
        "X_train = X_train.reshape(-1, 1)\n",
        "# Call predict on the regression model and assign the output to \n",
        "# a variable ypred\n",
        "\n",
        "ypred_test=linreg.predict(X_train)"
      ],
      "execution_count": null,
      "outputs": []
    },
    {
      "cell_type": "markdown",
      "metadata": {
        "id": "Uzi_pPChlPXk"
      },
      "source": [
        "## Part e) Calculating mean squared error\n",
        "The equation for the mean squared error is \n",
        "$$ MSE = \\frac{\\sum_{i = 1}^n (y_i - f(\\vec{x}_i))^2}{n} $$\n",
        "Write a function that takes in arrays for the target values `y` and the predicted values `pred` and returns the mean squared error."
      ]
    },
    {
      "cell_type": "code",
      "metadata": {
        "id": "OC5dHYsdlPXm"
      },
      "source": [
        "# Fill in the body of the function\n",
        "def MSE(y, pred):\n",
        "  mse = 0\n",
        "  for i in range(len(y)):\n",
        "    mse = mse + (y[i] - pred[i])**2\n",
        "  mse = mse/len(y)\n",
        "  return mse\n",
        "  "
      ],
      "execution_count": null,
      "outputs": []
    },
    {
      "cell_type": "markdown",
      "metadata": {
        "id": "J-B2BDoflPXo"
      },
      "source": [
        "Check your function against the function `mean_squared_error` from `sklearn.metrics`"
      ]
    },
    {
      "cell_type": "code",
      "metadata": {
        "id": "QMThGJpilPXx",
        "colab": {
          "base_uri": "https://localhost:8080/"
        },
        "outputId": "2501e5ba-f27b-4fbe-a9ba-d0bd45f346bb"
      },
      "source": [
        "# Write your answer here\n",
        "\n",
        "from sklearn.metrics import mean_squared_error \n",
        "MSE(y_val_orig, y_val_reg) == mean_squared_error(y_val_orig, y_val_reg)\n",
        "print(MSE(y_val_orig, y_val_reg))\n",
        "print(mean_squared_error(y_val_orig, y_val_reg))"
      ],
      "execution_count": null,
      "outputs": [
        {
          "output_type": "stream",
          "text": [
            "0.5849992670840775\n",
            "0.5849992670840775\n"
          ],
          "name": "stdout"
        }
      ]
    },
    {
      "cell_type": "markdown",
      "metadata": {
        "id": "fyE9Jno4lPXy"
      },
      "source": [
        "## Part f) Calculating R^2\n",
        "Recall from the lecture that $R^2$ is defined as\n",
        "\n",
        "$$R^2(y, \\hat{y})) = 1 - \\frac{\\sum_{i=1}^{n} (y_i - \\hat{y}_i)^2}{\\sum_{i=1}^{n} (y_i - \\bar{y})^2}$$\n",
        "\n",
        "This represents the proportion of the variance of y that is explained by the independent variables in the model. It is essentially a comparison of the fitted model with the mean of the target values ($\\bar{y}$). Implement your own function to calculate $R^2$ and then compare it with `r2_score` from `sklearn.metrics`"
      ]
    },
    {
      "cell_type": "code",
      "metadata": {
        "id": "O3aucIR4lPXz"
      },
      "source": [
        "# Fill in the body of the function\n",
        "def RSQ(y, pred):\n",
        "  orig_mean = sum(y)/len(y)\n",
        "  upper = 0\n",
        "  lower = 0\n",
        "  for i in range(len(y)):\n",
        "    upper = upper + (y[i] - pred[i])**2\n",
        "    lower = lower + (y[i] - orig_mean)**2\n",
        "  rsq = 1 - upper/lower\n",
        "  \n",
        "  return rsq\n"
      ],
      "execution_count": null,
      "outputs": []
    },
    {
      "cell_type": "code",
      "metadata": {
        "id": "Ph6dA7COlPX0",
        "colab": {
          "base_uri": "https://localhost:8080/"
        },
        "outputId": "a473d90c-b742-40e2-8fab-145576bc1666"
      },
      "source": [
        "# Compare with sklearn.metrics.r2_score\n",
        "from sklearn.metrics import r2_score \n",
        "RSQ(y_val_orig, y_val_reg) == r2_score(y_val_orig, y_val_reg)"
      ],
      "execution_count": null,
      "outputs": [
        {
          "output_type": "execute_result",
          "data": {
            "text/plain": [
              "True"
            ]
          },
          "metadata": {
            "tags": []
          },
          "execution_count": 26
        }
      ]
    },
    {
      "cell_type": "markdown",
      "metadata": {
        "id": "kha1xXhglPX2"
      },
      "source": [
        "# 3. Using cross-validation for model selection\n",
        "\n",
        "In this section we will fit a series of classifiers with different parameter settings, and use k-fold cross validation to select the most appropriate parameter values. We will use a *decision tree* classifier. We will cover this classifier in more detail in future lectures. For now, all you need to know is that a decision tree has a parameter `max_depth` that says how many layers the tree may have. More layers means that the tree can divide up the feature space into finer classes, but this could come at the expense of overfitting."
      ]
    },
    {
      "cell_type": "markdown",
      "metadata": {
        "id": "UsCs9zyTlPX3"
      },
      "source": [
        "## Part a) Creating an artificial dataset\n",
        "We first of all create an artificial dataset with 2000 samples, 10 features, and 4 classes."
      ]
    },
    {
      "cell_type": "code",
      "metadata": {
        "id": "p02Qn2b5lPX3"
      },
      "source": [
        "from sklearn.datasets import make_classification\n",
        "X, y = make_classification(n_samples = 2000, n_features = 10, \\\n",
        "                           n_classes=4, n_informative = 3, random_state=10)"
      ],
      "execution_count": null,
      "outputs": []
    },
    {
      "cell_type": "markdown",
      "metadata": {
        "id": "deDAHpNxlPX4"
      },
      "source": [
        "Use the function `train_test_split` to separate out 0.2 of your dataset. This will be kept aside as our held-out test set."
      ]
    },
    {
      "cell_type": "code",
      "metadata": {
        "id": "YmH-rj1RlPX4"
      },
      "source": [
        "# Write your answer here. \n",
        "# Assign the splits to variables Xtr, Xtest, ytr, ytest\n",
        "# Xtr, Xtest, ytr, ytest = ###TODO###\n",
        "\n",
        "Xtr, Xtest, ytr, ytest = train_test_split(X, y, test_size=0.2)"
      ],
      "execution_count": null,
      "outputs": []
    },
    {
      "cell_type": "markdown",
      "metadata": {
        "id": "Zy7Wk2t7lPX4"
      },
      "source": [
        "## Part b) Setting up k-fold cross validation\n",
        "We import the function `KFold` from `sklearn.model_selection`, and instantiate it with 10 folds."
      ]
    },
    {
      "cell_type": "code",
      "metadata": {
        "id": "oSGE8BS6lPX4"
      },
      "source": [
        "  from sklearn.model_selection import KFold\n",
        "  kf = KFold(n_splits=10, random_state=63, shuffle=True)"
      ],
      "execution_count": null,
      "outputs": []
    },
    {
      "cell_type": "markdown",
      "metadata": {
        "id": "2Y6VNqG1lPX5"
      },
      "source": [
        "## Part c) Running cross-validation for different parameter settings\n",
        "We import the decision tree classifier and run it over depths from 1 to `max_d`. For each depth we run cross-validation over the training set. Write the missing code in the cell below."
      ]
    },
    {
      "cell_type": "code",
      "metadata": {
        "id": "TSHr8XohlPX6",
        "colab": {
          "base_uri": "https://localhost:8080/"
        },
        "outputId": "6379e3b2-0b09-492c-fcde-4c4ce037f12d"
      },
      "source": [
        "from sklearn.tree import DecisionTreeClassifier\n",
        "max_d = 20\n",
        "#Set up variables to store training and validation accuracies. \n",
        "train_accuracies = [[] for _ in range(max_d)]\n",
        "val_accuracies = [[] for _ in range(max_d)]\n",
        "\n",
        "# Loop over depths\n",
        "for d in range(max_d):\n",
        "    #Instantiate the DecisionTreeClassifier here. \n",
        "    #Set the parameter max_depth to d+1\n",
        "    #We add 1 because d ranges from 0 to max_d-1, \n",
        "    #but we want depths from 1 to max_d\n",
        "    \n",
        "    dtc = DecisionTreeClassifier(max_depth=(d+1))\n",
        "\n",
        "    #Loop over cross-validation splits. \n",
        "    #Note that we perform cross validation on our training data Xtr.\n",
        "    #We keep our testing data Xtest aside\n",
        "    for train_index, val_index in kf.split(Xtr):\n",
        "        Xtrain, Xval = Xtr[train_index], Xtr[val_index]\n",
        "        ytrain, yval = ytr[train_index], ytr[val_index]\n",
        "      \n",
        "        #Fit the classifier on Xtrain and Ytrain\n",
        "        \n",
        "        dtc.fit(Xtrain, ytrain)\n",
        "\n",
        "        #Make predictions on Xtrain and assign to a variable pred_train\n",
        "        pred_train = dtc.predict(Xtrain)\n",
        "        \n",
        "        #Make predictions on Xval and assign to a variable pred_val\n",
        "        pred_val = dtc.predict(Xval)\n",
        "        \n",
        "        #Calculate the accuracy of the predictions on the training set \n",
        "        #and save in the variable train_accuracies\n",
        "        train_accuracies[d].append(accuracy_score(ytrain, pred_train))\n",
        "        \n",
        "        #Do the same for the predictions on the validation set\n",
        "        val_accuracies[d].append(accuracy_score(yval, pred_val))\n",
        "\n",
        "#Calculate the mean and standard deviation for training \n",
        "#and validation accuracies for each depth across splits \n",
        "train_accuracy_mean = np.mean(train_accuracies, axis=1)\n",
        "# Complete the lines and uncomment\n",
        "train_accuracy_stdev = np.std(train_accuracies, axis=1)\n",
        "val_accuracy_mean = np.mean(val_accuracies, axis=1)\n",
        "val_accuracy_stdev = np.std(val_accuracies, axis=1)\n",
        "\n",
        "\n",
        "print('Accuracy using training data: mean ' + str(train_accuracy_mean) + ' stddev ' + str(train_accuracy_stdev) )\n",
        "print('Accuracy using validation data: mean ' + str(val_accuracy_mean) + ' stddev ' + str(val_accuracy_stdev) )\n",
        "\n",
        "\n",
        "\n",
        "\n",
        "# The arrays of means and standard deviation should have shape (max_d, ). \n",
        "# The following will generate an error if not.\n",
        "\n",
        "#These just check for shape\n",
        "assert(np.shape(train_accuracy_mean)==(max_d,))\n",
        "assert(np.shape(train_accuracy_stdev)==(max_d,))\n",
        "assert(np.shape(val_accuracy_mean)==(max_d,))\n",
        "assert(np.shape(val_accuracy_stdev)==(max_d,))"
      ],
      "execution_count": null,
      "outputs": [
        {
          "output_type": "stream",
          "text": [
            "Accuracy using training data: mean [0.44625    0.76763889 0.77590278 0.79291667 0.81965278 0.85215278\n",
            " 0.88597222 0.91951389 0.94340278 0.96340278 0.97798611 0.98666667\n",
            " 0.99236111 0.99548611 0.99777778 0.99881944 0.99951389 0.99972222\n",
            " 0.99993056 1.        ] stddev [0.00430556 0.00427182 0.00416725 0.00492811 0.00602248 0.00428591\n",
            " 0.00341339 0.00514499 0.00492272 0.00762024 0.00721721 0.00628693\n",
            " 0.00589256 0.00394369 0.00248063 0.00173055 0.00103237 0.00063647\n",
            " 0.00020833 0.        ]\n",
            "Accuracy using validation data: mean [0.44625  0.7625   0.7675   0.769375 0.784375 0.765    0.76     0.745\n",
            " 0.73625  0.736875 0.72125  0.723125 0.720625 0.711875 0.718125 0.716875\n",
            " 0.720625 0.72     0.711875 0.7125  ] stddev [0.03875    0.04266512 0.04200074 0.05202538 0.05385527 0.05230619\n",
            " 0.05521266 0.05411215 0.0417208  0.04738885 0.0495448  0.04833558\n",
            " 0.05639218 0.04588113 0.05080985 0.05694364 0.04428688 0.05045109\n",
            " 0.03616909 0.04677072]\n"
          ],
          "name": "stdout"
        }
      ]
    },
    {
      "cell_type": "markdown",
      "metadata": {
        "id": "9uuHs5TBlPX6"
      },
      "source": [
        "## Plotting results\n",
        "\n",
        "Plot the mean accuracy attained on the training set and on the validation set at each depth. Your figure should look something like the following:\n",
        "\n",
        "![image-2.png](attachment:image-2.png)\n",
        "\n",
        "What do you notice about these results? Which value of max_depth would you use for your held-out test set?"
      ]
    },
    {
      "cell_type": "code",
      "metadata": {
        "id": "-f9d6ElElPX6",
        "colab": {
          "base_uri": "https://localhost:8080/",
          "height": 314
        },
        "outputId": "abd8dfd8-f8fa-4c16-9959-d596309a9af0"
      },
      "source": [
        "# Write code to plot your results here\r\n",
        "\r\n",
        "print(len(train_accuracy_mean))\r\n",
        "\r\n",
        "x_val = np.linspace(0,1,max_d)\r\n",
        "\r\n",
        "fig, ax = plt.subplots() # Generates a named figure (fig) and axes (ax)\r\n",
        "ax.plot(x_val, train_accuracy_mean, label = 'Training Accuracy') # Scatterplot of the data on the ax.\r\n",
        "ax.plot(x_val, val_accuracy_mean, label = 'Validation Accuracy') # Scatterplot of the data on the ax.\r\n",
        "ax.vlines(x_val[val_accuracy_mean.argmax()],0.5,1,colors='b', linestyles='dashed') #Stop at the fifth element\r\n",
        "plt.xlabel('Tree depth')\r\n",
        "plt.legend()"
      ],
      "execution_count": null,
      "outputs": [
        {
          "output_type": "stream",
          "text": [
            "20\n"
          ],
          "name": "stdout"
        },
        {
          "output_type": "execute_result",
          "data": {
            "text/plain": [
              "<matplotlib.legend.Legend at 0x7fb8aca5bf98>"
            ]
          },
          "metadata": {
            "tags": []
          },
          "execution_count": 43
        },
        {
          "output_type": "display_data",
          "data": {
            "image/png": "[encoded data removed]",
            "text/plain": [
              "<Figure size 432x288 with 1 Axes>"
            ]
          },
          "metadata": {
            "tags": [],
            "needs_background": "light"
          }
        }
      ]
    },
    {
      "cell_type": "markdown",
      "metadata": {
        "id": "L1Vt7uIglPX6"
      },
      "source": [
        "## Computing accuracy on the test set\n",
        "Based on your plotted results, decide on the best value of `max_depth` to use in your decision tree classifier. Instantiate a new classifier with your chosen value. Fit the model on the training data. Make a prediction on the held-out test data, and calculate the accuracy on the test data. Is the accuracy what you expected? If not, why not?\n"
      ]
    },
    {
      "cell_type": "code",
      "metadata": {
        "id": "pmNc0vh9lPX8",
        "colab": {
          "base_uri": "https://localhost:8080/"
        },
        "outputId": "a2a88529-f4c0-4c45-e9c5-7292f80a06db"
      },
      "source": [
        "#Instantiate a new classifier with your chosen value of max_depth\n",
        "dtc = DecisionTreeClassifier(max_depth=(val_accuracy_mean.argmax()))  \n",
        "\n",
        "#Fit the classifier on the training data\n",
        "dtc.fit(Xtr, ytr)\n",
        "\n",
        "#Make predictions on Xtrain and assign to a variable pred_train\n",
        "pred_train = dtc.predict(Xtrain)\n",
        "  \n",
        "#Make a prediction on the test data\n",
        "pred_val = dtc.predict(Xtest)\n",
        "\n",
        "\n",
        "\n",
        "\n",
        "#Calculate the accuracy on the test data\n",
        "print(accuracy_score(ytest, pred_val))\n",
        "\n",
        "\n",
        "#Accuracy should be similar to that of the fourht element for the validation data\n",
        "print(val_accuracy_mean[4])\n"
      ],
      "execution_count": null,
      "outputs": [
        {
          "output_type": "stream",
          "text": [
            "0.785\n",
            "0.7843749999999999\n"
          ],
          "name": "stdout"
        }
      ]
    }
  ]
}