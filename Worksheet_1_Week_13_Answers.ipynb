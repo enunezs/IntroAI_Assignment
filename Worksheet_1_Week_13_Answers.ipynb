{
  "nbformat": 4,
  "nbformat_minor": 0,
  "metadata": {
    "kernelspec": {
      "display_name": "Python 3",
      "language": "python",
      "name": "python3"
    },
    "language_info": {
      "codemirror_mode": {
        "name": "ipython",
        "version": 3
      },
      "file_extension": ".py",
      "mimetype": "text/x-python",
      "name": "python",
      "nbconvert_exporter": "python",
      "pygments_lexer": "ipython3",
      "version": "3.9.1"
    },
    "colab": {
      "name": "Worksheet 1 Week 13 Answers.ipynb",
      "provenance": [],
      "include_colab_link": true
    }
  },
  "cells": [
    {
      "cell_type": "markdown",
      "metadata": {
        "id": "view-in-github",
        "colab_type": "text"
      },
      "source": [
        "<a href=\"https://colab.research.google.com/github/enunezs/IntroAI_Assignment/blob/main/Worksheet_1_Week_13_Answers.ipynb\" target=\"_parent\"><img src=\"https://colab.research.google.com/assets/colab-badge.svg\" alt=\"Open In Colab\"/></a>"
      ]
    },
    {
      "cell_type": "markdown",
      "metadata": {
        "id": "Estf3yZSL20S"
      },
      "source": [
        "# Introduction\n",
        "This worksheet covers material from week 13. You will write functions to implement evaluation metrics for classification and regression problems. You will:\n",
        " - Use library functions from scikit-learn (https://scikit-learn.org/stable/)\n",
        " - Use NumPy and matplotlib\n",
        " - Write and call functions in Python\n",
        " - Gain understanding of the evaluation metrics used.\n",
        "\n",
        "\n",
        "Scikit-learn (https://scikit-learn.org/stable/) is a Python library with a wide range of ML algorithms. We will be using some of these algorithms during this course, but we will also be looking at the principles behind the algorithms in order to understand these rather than simply applying functions from libraries.\n",
        "\n",
        "## If you don't know Python, NumPy, matplotlib\n",
        "Please work through the Introduction to Python worksheet available on Blackboard"
      ]
    },
    {
      "cell_type": "markdown",
      "metadata": {
        "id": "BNi2zsHlL20n"
      },
      "source": [
        "# 0. Preliminaries\n",
        "We firstly import NumPy and matplotlib as we will be using these throughout the worksheet. We use a 'magic' function `%matplotlib inline` to display plots in the worksheet."
      ]
    },
    {
      "cell_type": "code",
      "metadata": {
        "id": "uj7edCBpL20p"
      },
      "source": [
        "import numpy as np\n",
        "import matplotlib.pyplot as plt\n",
        "%matplotlib inline"
      ],
      "execution_count": null,
      "outputs": []
    },
    {
      "cell_type": "markdown",
      "metadata": {
        "id": "Tv7gFAV_L20t"
      },
      "source": [
        "# 1. Classification\n",
        "In this question you will use a toy dataset from scikit-learn. You will use functions from scikit-learn to load the data, divide it into training and testing sets, and then fit a simple classifier to the training set. You will then write functions to calculate accuracy, precision, and recall. Finally, you will check your functions against the functions from scikit-learn.\n",
        "\n",
        "## Part a) Load the data"
      ]
    },
    {
      "cell_type": "code",
      "metadata": {
        "id": "DKx3M-LoL20t"
      },
      "source": [
        "# scikit-learn comes with a number of toy datasets (https://sklearn.org/datasets/index.html#toy-datasets)\n",
        "from sklearn import datasets\n",
        "\n",
        "# Load the wine dataset from sklearn. You may want to take a look at the format of the dataset\n",
        "wine = datasets.load_wine()\n",
        "\n",
        "# Save the datapoints into the variable X and the targets into the variable y\n",
        "X = wine.data\n",
        "y = wine.target"
      ],
      "execution_count": null,
      "outputs": []
    },
    {
      "cell_type": "markdown",
      "metadata": {
        "id": "XfSmxRGZL20x"
      },
      "source": [
        "Take a look at the target values in y. What do you notice about these? Why are these suitable for a classification algorithm rather than a regression algorithm?"
      ]
    },
    {
      "cell_type": "code",
      "metadata": {
        "id": "X4x3GsXJL20z"
      },
      "source": [
        "#  Look at the values in y\n",
        "y"
      ],
      "execution_count": null,
      "outputs": []
    },
    {
      "cell_type": "markdown",
      "metadata": {
        "id": "OsC4FNtPL200"
      },
      "source": [
        "## Part b) Divide the data into training and testing sets\n",
        "Use the function `train_test_split` from `sklearn.model_selection` to split out the data and targets into training and testing sets."
      ]
    },
    {
      "cell_type": "code",
      "metadata": {
        "id": "5XlK_9sZL201"
      },
      "source": [
        "# We import the function train_test_split from sklearn and use this to split the data\n",
        "from sklearn.model_selection import train_test_split\n",
        "\n",
        "# The function returns splits of each array passed in. \n",
        "# The proportion to be used as the training set is given by test_size\n",
        "X_train, X_test, y_train, y_test = train_test_split(X, y, test_size=0.2)"
      ],
      "execution_count": null,
      "outputs": []
    },
    {
      "cell_type": "markdown",
      "metadata": {
        "id": "esUFdvwML202"
      },
      "source": [
        "## Part c) Import the k-nearest neighbours classifier and run it on the data\n",
        "Scikit-learn has a huge range of *estimators* that you can use with your dataset. An estimator is any procedure that can be used to fit data and make predictions from it. Here we will import the k-nearest neighbours classifier, instantiate it, run it on our training set, and then use it to generate some predictions. You will learn more about k-nearest neighbours in Week 14. For now, we are simply using it to generate some predictions.\n",
        "\n",
        "The general procedure for using the estimators in scikit-learn is as follows. Every estimator has a method `fit(X, y)` and a method `predict(T)`. \n",
        "\n",
        "1) Import the estimator\n",
        "    e.g. `from sklearn.models import Classifier`\n",
        "    \n",
        "2) Instantiate the estimator to a variable\n",
        "    e.g. `est = Classifier(params)`\n",
        "    \n",
        "3) Fit the estimator to the data\n",
        "    e.g. `est.fit(X, y)`\n",
        "    \n",
        "4) Make a prediction\n",
        "    e.g. `predictions = est.predict(test_data)`\n",
        "    \n",
        "You can see an example of this in the code below:"
      ]
    },
    {
      "cell_type": "code",
      "metadata": {
        "scrolled": true,
        "id": "QZEVYQDHL203"
      },
      "source": [
        "# We first import the classifier\n",
        "from sklearn.neighbors import KNeighborsClassifier\n",
        "\n",
        "# We instantiate the classifier with 5 neighbours\n",
        "knn = KNeighborsClassifier(n_neighbors=5)\n",
        "\n",
        "# We fit the model using our training data\n",
        "knn.fit(X_train, y_train)\n",
        "\n",
        "# Finally, we generate predictions on the test data\n",
        "ypred_test=knn.predict(X_test)"
      ],
      "execution_count": null,
      "outputs": []
    },
    {
      "cell_type": "markdown",
      "metadata": {
        "id": "4xeuvh_4L207"
      },
      "source": [
        "## Part d) Evaluating the classifier\n",
        "In this section we will implement functions for accuracy, precision and recall, and compare them with the functions given in sklearn (they should give the same results!)\n",
        "\n",
        "The wine dataset has 3 classes. We will write functions to compute the accuracy of the classifer, the macro-averaged precision and the macro-averaged recall.\n",
        "\n",
        "Recall the equations for accuracy, precision, and recall:\n",
        "\n",
        "$$Accuracy = \\frac{\\sum_{i = 1}^n 1(y_i = f(x_i))}{n}$$\n",
        "i.e. the number of correctly classified datapoints as a proportion of all $n$ datapoints\n",
        "\n",
        "$$Precision_c = \\frac{TP_c}{TP_c+FP_c}$$\n",
        "i.e. the precision for class $c$ is the number of true positives for class $c$ as a proportion of the total number of positive predictions for class $c$\n",
        "\n",
        "$$Recall_c = \\frac{TP_c}{TP_c+FN_c}$$\n",
        "i.e. the recall for class $c$ is the number of true positives for class $c$ as a proportion of the total number of actual positives for class $c$\n",
        "\n",
        "The macro-averaged precision and macro-averaged recall are then simply calculated by averaging the precision (or recall) for each class:\n",
        "\n",
        "$$Precision = \\frac{1}{k} \\sum_{i = 1}^k Precision_k, \\quad Recall = \\frac{1}{k} \\sum_{i = 1}^k Recall_k$$\n",
        "\n",
        "We can automatically generate the confusion matrix for our data using the function `confusion_matrix` from `sklearn.metrics`"
      ]
    },
    {
      "cell_type": "code",
      "metadata": {
        "id": "fWs62oe2L208"
      },
      "source": [
        "# Import the function confusion_matrix\n",
        "from sklearn.metrics import confusion_matrix\n",
        "\n",
        "#Build the confusion matrix from the target test set y_test and our predicted values ypred_test\n",
        "cm = confusion_matrix(y_test, ypred_test)"
      ],
      "execution_count": null,
      "outputs": []
    },
    {
      "cell_type": "markdown",
      "metadata": {
        "id": "0EhzUn3aL208"
      },
      "source": [
        "Take a look at the confusion matrix. What should its dimensions be? "
      ]
    },
    {
      "cell_type": "code",
      "metadata": {
        "id": "8cwp7TZyL20-"
      },
      "source": [
        "# Look at the confusion matrix cm"
      ],
      "execution_count": null,
      "outputs": []
    },
    {
      "cell_type": "markdown",
      "metadata": {
        "id": "cJwLsilyL20_"
      },
      "source": [
        "Write a function `my_accuracy` that takes in two arrays `y` for target values and `pred` for predicted  values, and returns accuracy."
      ]
    },
    {
      "cell_type": "code",
      "metadata": {
        "id": "PD3dc-uAL21A"
      },
      "source": [
        "def my_accuracy(y, pred):\n",
        "    acc=0\n",
        "    # Write your answer here\n",
        "    cm = confusion_matrix(y, pred)\n",
        "    acc = np.diag(cm).sum()/cm.sum()\n",
        "    return acc"
      ],
      "execution_count": null,
      "outputs": []
    },
    {
      "cell_type": "markdown",
      "metadata": {
        "id": "NyxfmZswL21C"
      },
      "source": [
        "Write a function `my_recall_macro` that takes in two arrays `y` for target values and `pred` for predicted  values, and returns recall. "
      ]
    },
    {
      "cell_type": "code",
      "metadata": {
        "id": "q5nkh_rgL21D"
      },
      "source": [
        "def my_recall_macro(y, pred):\n",
        "    recalls = []\n",
        "    cm = confusion_matrix(y, pred)\n",
        "    # Write your answer here\n",
        "    for i, row in enumerate(cm):\n",
        "        recall_i = row[i]/row.sum()\n",
        "        recalls.append(recall_i)\n",
        "    return np.mean(recalls)      "
      ],
      "execution_count": null,
      "outputs": []
    },
    {
      "cell_type": "markdown",
      "metadata": {
        "id": "hTcY9HooL21D"
      },
      "source": [
        "Write a function `my_precision_macro` that takes in two arrays `y` for target values and `pred` for predicted  values, and returns precision. "
      ]
    },
    {
      "cell_type": "code",
      "metadata": {
        "id": "Ku1dFcRiL21E"
      },
      "source": [
        "def my_precision_macro(y, pred):\n",
        "    # Write your answer here\n",
        "    precs = []\n",
        "    cm = confusion_matrix(y, pred)\n",
        "    for i, col in enumerate(cm.T):\n",
        "        prec_i = col[i]/col.sum()\n",
        "        precs.append(prec_i)\n",
        "    return np.mean(precs)"
      ],
      "execution_count": null,
      "outputs": []
    },
    {
      "cell_type": "markdown",
      "metadata": {
        "id": "JYrJfBmeL21F"
      },
      "source": [
        "Check that your functions match those in sklearn."
      ]
    },
    {
      "cell_type": "code",
      "metadata": {
        "id": "up5SwevdL21G",
        "outputId": "74a55815-3645-485a-b769-79f7f17232b9"
      },
      "source": [
        "from sklearn.metrics import precision_score, recall_score, accuracy_score\n",
        "my_accuracy(y_test, ypred_test) == accuracy_score(y_test, ypred_test)"
      ],
      "execution_count": null,
      "outputs": [
        {
          "output_type": "execute_result",
          "data": {
            "text/plain": [
              "True"
            ]
          },
          "metadata": {
            "tags": []
          },
          "execution_count": 49
        }
      ]
    },
    {
      "cell_type": "code",
      "metadata": {
        "id": "s5yBZm30L21L",
        "outputId": "17e56519-6092-41e8-d555-dfba29afe27f"
      },
      "source": [
        "my_recall_macro(y_test, ypred_test)==recall_score(y_test, ypred_test, average='macro')"
      ],
      "execution_count": null,
      "outputs": [
        {
          "output_type": "execute_result",
          "data": {
            "text/plain": [
              "True"
            ]
          },
          "metadata": {
            "tags": []
          },
          "execution_count": 50
        }
      ]
    },
    {
      "cell_type": "code",
      "metadata": {
        "id": "mguVLg0HL21M",
        "outputId": "57b016d2-2714-4ed2-d3c1-8cfaca410a1b"
      },
      "source": [
        "my_precision_macro(y_test, ypred_test)==precision_score(y_test, ypred_test, average='macro')\n"
      ],
      "execution_count": null,
      "outputs": [
        {
          "output_type": "execute_result",
          "data": {
            "text/plain": [
              "True"
            ]
          },
          "metadata": {
            "tags": []
          },
          "execution_count": 51
        }
      ]
    },
    {
      "cell_type": "markdown",
      "metadata": {
        "id": "REdoD-yxL21O"
      },
      "source": [
        "# 2. Regression\n",
        "\n",
        "In this question we will use sklearn to fit a linear model to some artificial data. You will then implement a function to calculate the mean squared error and a function to calculate $r^2$.\n",
        "\n",
        "## Part a) Create an artificial dataset\n",
        "We start off by creating some artificial data.    "
      ]
    },
    {
      "cell_type": "code",
      "metadata": {
        "id": "whL91r64L21O"
      },
      "source": [
        "# We set up a random number generator (rng), seeded with a number (in this case 10). \n",
        "# Using a seed means we can generate the same sequence of pseudorandom numbers, and so we can check results easily.\n",
        "rng = np.random.default_rng(10) \n",
        "\n",
        "# a and b are coefficients for the line\n",
        "a = 2\n",
        "b = -1\n",
        "\n",
        "# Use np.linspace to generate datapoints from 0 to 10 (inclusive) spaced at 0.1\n",
        "X = np.linspace(0, 10, 101) \n",
        "\n",
        "# Create data Y using the equation for a line\n",
        "Y = a*X + b\n",
        "\n",
        "# Adds Gaussian noise with mean 0 and standard deviation 3 to the data\n",
        "Y = Y + 3*rng.standard_normal(len(Y)) "
      ],
      "execution_count": null,
      "outputs": []
    },
    {
      "cell_type": "markdown",
      "metadata": {
        "id": "sUs8f-HTL21O"
      },
      "source": [
        "## Part b) Plot the data on named axes"
      ]
    },
    {
      "cell_type": "code",
      "metadata": {
        "id": "u5tmHoqCL21P",
        "outputId": "5eec610e-bb2c-425a-801c-5a7717e55675"
      },
      "source": [
        "fig, ax = plt.subplots() # This generates us a named figure and axes\n",
        "ax.scatter(X, Y, label = 'Data') # We generate a scatterplot of the data on the axes.\n",
        "plt.xlabel('x')\n",
        "plt.ylabel('y')"
      ],
      "execution_count": null,
      "outputs": [
        {
          "output_type": "execute_result",
          "data": {
            "text/plain": [
              "Text(0, 0.5, 'y')"
            ]
          },
          "metadata": {
            "tags": []
          },
          "execution_count": 67
        },
        {
          "output_type": "display_data",
          "data": {
            "image/png": "[encoded data removed]",
            "text/plain": [
              "<Figure size 432x288 with 1 Axes>"
            ]
          },
          "metadata": {
            "tags": [],
            "needs_background": "light"
          }
        }
      ]
    },
    {
      "cell_type": "markdown",
      "metadata": {
        "id": "yvHA-qOpL21Q"
      },
      "source": [
        "## Part c) Split the data into training and testing sets\n",
        "Split the data X and targets Y into training and testing sets using the function `train_test_split`. Set the proportion of the dataset to use as test data to 0.1."
      ]
    },
    {
      "cell_type": "code",
      "metadata": {
        "id": "Gq7VEJb4L21S"
      },
      "source": [
        "# Write your answer here\n",
        "Xtrain, Xtest, ytrain, ytest = train_test_split(X, Y, test_size=0.1)"
      ],
      "execution_count": null,
      "outputs": []
    },
    {
      "cell_type": "markdown",
      "metadata": {
        "id": "hrvkQNEjL21T"
      },
      "source": [
        "## Part d) Instantiate and fit the estimator\n",
        "Import the estimator `LinearRegression` from `sklearn.linear_model` and instantiate it. No parameters are needed."
      ]
    },
    {
      "cell_type": "code",
      "metadata": {
        "id": "8OA4QkUkL21T"
      },
      "source": [
        "from sklearn.linear_model import LinearRegression\n",
        "regr = LinearRegression()"
      ],
      "execution_count": null,
      "outputs": []
    },
    {
      "cell_type": "markdown",
      "metadata": {
        "id": "ZiE1JpSVL21T"
      },
      "source": [
        "You will need to reshape the data (but not the targets) before passing it to this model. "
      ]
    },
    {
      "cell_type": "code",
      "metadata": {
        "id": "LZ4om8PbL21U"
      },
      "source": [
        "# This reshapes the data to have 1 column and however many rows make sense for the data\n",
        "Xtrain = Xtrain.reshape(-1, 1)"
      ],
      "execution_count": null,
      "outputs": []
    },
    {
      "cell_type": "markdown",
      "metadata": {
        "id": "DtwqKK79L21U"
      },
      "source": [
        "Call the method `fit` with your training data to train the model"
      ]
    },
    {
      "cell_type": "code",
      "metadata": {
        "id": "ByLgfMN8L21W",
        "outputId": "57bb9896-3e0b-4565-e049-b47d0e571166"
      },
      "source": [
        "# Write your answer here\n",
        "regr.fit(Xtrain, ytrain)"
      ],
      "execution_count": null,
      "outputs": [
        {
          "output_type": "execute_result",
          "data": {
            "text/plain": [
              "LinearRegression()"
            ]
          },
          "metadata": {
            "tags": []
          },
          "execution_count": 71
        }
      ]
    },
    {
      "cell_type": "markdown",
      "metadata": {
        "id": "T2dwo3D_L21X"
      },
      "source": [
        "The coefficient(s) and intercept for the trained model are called `coef_` and `intercept_`. Are these what you would expect? Are they similar to the values of `a` and `b` that we used to generate the data?"
      ]
    },
    {
      "cell_type": "code",
      "metadata": {
        "id": "Q8jbVIb3L21X",
        "outputId": "6bdb1740-ba3c-4fbe-e7e2-63e809b9692d"
      },
      "source": [
        "regr.coef_"
      ],
      "execution_count": null,
      "outputs": [
        {
          "output_type": "execute_result",
          "data": {
            "text/plain": [
              "array([2.09907865])"
            ]
          },
          "metadata": {
            "tags": []
          },
          "execution_count": 72
        }
      ]
    },
    {
      "cell_type": "code",
      "metadata": {
        "id": "Sj_AveTvL21Y",
        "outputId": "7e17e059-8bc0-4f12-efe6-a604f61232df"
      },
      "source": [
        "regr.intercept_"
      ],
      "execution_count": null,
      "outputs": [
        {
          "output_type": "execute_result",
          "data": {
            "text/plain": [
              "-2.0849773758206975"
            ]
          },
          "metadata": {
            "tags": []
          },
          "execution_count": 73
        }
      ]
    },
    {
      "cell_type": "markdown",
      "metadata": {
        "id": "SJ0M0JeVL21Y"
      },
      "source": [
        "Using the values stored in `coef_` and `intercept_`, plot a line representing the fitted model on the same axes (`ax`) as before. Type `fig` to view the plot."
      ]
    },
    {
      "cell_type": "code",
      "metadata": {
        "id": "ltm_629gL21Z",
        "outputId": "b63237c8-31e0-4965-e348-11652b342ffc"
      },
      "source": [
        "# Write your answer here \n",
        "x = np.array([0, 10])\n",
        "ax.plot(x, regr.coef_[0]*x + regr.intercept_, 'g', label='Fitted model')\n",
        "fig"
      ],
      "execution_count": null,
      "outputs": [
        {
          "output_type": "execute_result",
          "data": {
            "image/png": "[encoded data removed]",
            "text/plain": [
              "<Figure size 432x288 with 1 Axes>"
            ]
          },
          "metadata": {
            "tags": []
          },
          "execution_count": 74
        }
      ]
    },
    {
      "cell_type": "markdown",
      "metadata": {
        "id": "fK6OlccrL21a"
      },
      "source": [
        "Reshape the test data to have one column and then call `predict` on the regression model to get the predicted y values"
      ]
    },
    {
      "cell_type": "code",
      "metadata": {
        "id": "LPeMZ0znL21b"
      },
      "source": [
        "Xtest = Xtest.reshape(-1, 1)\n",
        "ypred = regr.predict(Xtest)"
      ],
      "execution_count": null,
      "outputs": []
    },
    {
      "cell_type": "markdown",
      "metadata": {
        "id": "0BshNVYSL21b"
      },
      "source": [
        "## Part e) Calculating mean squared error\n",
        "The equation for the mean squared error is \n",
        "$$ MSE = \\frac{\\sum_{i = 1}^n (y_i - f(x_i))^2}{n} $$\n",
        "Write a function that takes in arrays for the target values `y` and the predicted values `pred` and returns the mean squared error."
      ]
    },
    {
      "cell_type": "code",
      "metadata": {
        "id": "KrTLPyzVL21b"
      },
      "source": [
        "def MSE(y, pred):\n",
        "    diffs = y - pred\n",
        "    sse = (diffs**2).sum()\n",
        "    mse = sse/len(diffs)\n",
        "    return mse"
      ],
      "execution_count": null,
      "outputs": []
    },
    {
      "cell_type": "markdown",
      "metadata": {
        "id": "j9KruXnjL21d"
      },
      "source": [
        "Check your function against the function `mean_squared_error` from `sklearn.metrics`"
      ]
    },
    {
      "cell_type": "code",
      "metadata": {
        "id": "sGOa7K-LL21e",
        "outputId": "6e114fb2-7cbc-4b80-ac31-8034f468df15"
      },
      "source": [
        "from sklearn.metrics import mean_squared_error\n",
        "MSE(ytest, ypred) == mean_squared_error(ytest, ypred)"
      ],
      "execution_count": null,
      "outputs": [
        {
          "output_type": "execute_result",
          "data": {
            "text/plain": [
              "True"
            ]
          },
          "metadata": {
            "tags": []
          },
          "execution_count": 79
        }
      ]
    },
    {
      "cell_type": "markdown",
      "metadata": {
        "id": "U_-0aTlfL21f"
      },
      "source": [
        "## Part f) Calculating R^2\n",
        "Recall from the lecture that $R^2$ is defined as\n",
        "\n",
        "$$R^2(y, \\hat{y})) = 1 - \\frac{\\sum_{i=1}^{n} (y_i - \\hat{y}_i)^2}{\\sum_{i=1}^{n} (y_i - \\bar{y})^2}$$\n",
        "\n",
        "This represents the proportion of the variance of y that is explained by the independent variables in the model. It is essentially a comparison of the fitted model with the mean of the target values ($\\bar{y}$). Implement your own function to calculate $R^2$ and then compare it with `r2_score` from `sklearn.metrics`"
      ]
    },
    {
      "cell_type": "code",
      "metadata": {
        "id": "yj6W7Gp7L21f"
      },
      "source": [
        "def rsq(y, pred):\n",
        "    sse = ((y-pred)**2).sum()\n",
        "    m = ((y - np.mean(y))**2).sum()\n",
        "    return 1 - sse/m"
      ],
      "execution_count": null,
      "outputs": []
    },
    {
      "cell_type": "code",
      "metadata": {
        "id": "3sX3RD2RL21h",
        "outputId": "9a41b4f0-00c7-4c52-d052-38751e730845"
      },
      "source": [
        "from sklearn.metrics import r2_score\n",
        "rsq(ytest, ypred) == r2_score(ytest, ypred)"
      ],
      "execution_count": null,
      "outputs": [
        {
          "output_type": "execute_result",
          "data": {
            "text/plain": [
              "True"
            ]
          },
          "metadata": {
            "tags": []
          },
          "execution_count": 83
        }
      ]
    },
    {
      "cell_type": "markdown",
      "metadata": {
        "id": "o6dh7M47L21i"
      },
      "source": [
        "# 3. Using cross-validation for model selection\n",
        "\n",
        "In this section we will fit a series of classifiers with different parameter settings, and use k-fold cross validation to select the most appropriate parameter values. We will use a *decision tree* classifier. We will cover this classifier in more detail in future lectures. For now, all you need to know is that a decision tree has a parameter `max_depth` that says how many layers the tree may have. More layers means that the tree can divide up the feature space into finer classes, but this could come at the expense of overfitting."
      ]
    },
    {
      "cell_type": "markdown",
      "metadata": {
        "id": "hLILu-kzL21j"
      },
      "source": [
        "## Part a) \n",
        "We first of all create an artificial dataset with 2000 samples, 10 features, and 4 classes."
      ]
    },
    {
      "cell_type": "code",
      "metadata": {
        "id": "K6ZTznf3L21n"
      },
      "source": [
        "from sklearn.datasets import make_classification\n",
        "X, y = make_classification(n_samples = 2000, n_features = 10, n_classes=4, n_informative = 3, random_state=10)"
      ],
      "execution_count": null,
      "outputs": []
    },
    {
      "cell_type": "markdown",
      "metadata": {
        "id": "9maI6t3tL21p"
      },
      "source": [
        "Use the function `train_test_split` to separate out 0.2 of your dataset. This will be kept aside as our held-out test set."
      ]
    },
    {
      "cell_type": "code",
      "metadata": {
        "id": "KIutAuuDL21q"
      },
      "source": [
        "# Write your answer here\n",
        "Xtr, Xtest, ytr, ytest = train_test_split(X, y, test_size=0.2, random_state=24)"
      ],
      "execution_count": null,
      "outputs": []
    },
    {
      "cell_type": "markdown",
      "metadata": {
        "id": "cRqKnDGFL21q"
      },
      "source": [
        "### Part b) Setting up k-fold cross validation\n",
        "We import the function `KFold` from `sklearn.model_selection`, and instantiate it with 10 folds."
      ]
    },
    {
      "cell_type": "code",
      "metadata": {
        "id": "DyTYpAB8L21q"
      },
      "source": [
        "from sklearn.model_selection import KFold\n",
        "kf = KFold(n_splits=10, random_state=63, shuffle=True)"
      ],
      "execution_count": null,
      "outputs": []
    },
    {
      "cell_type": "markdown",
      "metadata": {
        "id": "1_PMtZDLL21r"
      },
      "source": [
        "### Part c) Running cross-validation for different parameter settings\n",
        "We import the decision tree classifier and run it over depths from 1 to `max_d`. For each depth we run cross-validation over the training set."
      ]
    },
    {
      "cell_type": "code",
      "metadata": {
        "id": "-0J4pSwxL21s"
      },
      "source": [
        "from sklearn.tree import DecisionTreeClassifier\n",
        "max_d = 20\n",
        "#Set up variables to store training and validation accuracies. \n",
        "train_accuracies = [[] for _ in range(max_d)]\n",
        "val_accuracies = [[] for _ in range(max_d)]\n",
        "\n",
        "# Loop over depths\n",
        "for d in range(max_d):\n",
        "    #Instantiate the DecisionTreeClassifier here. Set the parameter max_depth to d+1\n",
        "    #We add 1 because d ranges from 0 to max_d-1, but we want depths from 1 to max_d\n",
        "    clf = DecisionTreeClassifier(max_depth=d+1)\n",
        "    \n",
        "    #Loop over cross-validation splits. Note that we perform cross validation on our training data Xtr.\n",
        "    #We keep our testing data Xtest aside\n",
        "    for train_index, val_index in kf.split(Xtr):\n",
        "        Xtrain, Xval = Xtr[train_index], Xtr[val_index]\n",
        "        ytrain, yval = ytr[train_index], ytr[val_index]\n",
        "        \n",
        "        #Fit the classifier on Xtrain and Ytrain\n",
        "        clf.fit(Xtrain, ytrain)\n",
        "        \n",
        "        #Make predictions on Xtrain and assign to a variable pred_train\n",
        "        pred_train = clf.predict(Xtrain)\n",
        "        \n",
        "        #Make predictions on Xval and assign to a variable pred_val\n",
        "        pred_val = clf.predict(Xval)\n",
        "        \n",
        "        #Calculate the accuracy of the predictions on the training set and save in the variable train_accuracies\n",
        "        train_accuracies[d].append(accuracy_score(ytrain, pred_train))\n",
        "        \n",
        "        #Do the same for the predictions on the validation set\n",
        "        val_accuracies[d].append(accuracy_score(yval, pred_val))\n",
        "\n",
        "#Calculate the mean and standard deviation for each depth across splits \n",
        "train_accuracy_mean = np.mean(train_accuracies, axis=1)\n",
        "train_accuracy_stdev = np.std(train_accuracies, axis=1)\n",
        "val_accuracy_mean = np.mean(val_accuracies, axis=1)\n",
        "val_accuracy_stdev = np.std(val_accuracies, axis=1)\n",
        "\n",
        "# The arrays of means and standard deviation should have shape (max_d, ). The following will generate an error if not.\n",
        "assert(np.shape(train_accuracy_mean)==(max_d,))\n",
        "assert(np.shape(train_accuracy_stdev)==(max_d,))\n",
        "assert(np.shape(val_accuracy_mean)==(max_d,))\n",
        "assert(np.shape(val_accuracy_stdev)==(max_d,))"
      ],
      "execution_count": null,
      "outputs": []
    },
    {
      "cell_type": "markdown",
      "metadata": {
        "id": "tSGmlW3UL21t"
      },
      "source": [
        "### Plotting results\n",
        "\n",
        "Plot the mean accuracy attained on the training set and on the validation set at each depth. Your figure should look something like the following:\n",
        "\n",
        "![image-2.png](attachment:image-2.png)\n",
        "\n",
        "What do you notice about these results? Which value of max_depth would you use for your held-out test set?"
      ]
    },
    {
      "cell_type": "code",
      "metadata": {
        "id": "YaANeMuUL21v",
        "outputId": "4886d5c6-99c7-4295-f1ba-6da92b0fca69"
      },
      "source": [
        "# Write code to plot your results here\n",
        "fig2=plt.figure()\n",
        "x = list(range(1,max_d+1))\n",
        "plt.plot(x,train_accuracy_mean, label = 'Training Accuracy')\n",
        "plt.plot(x,val_accuracy_mean, label = 'Validation Accuracy')\n",
        "plt.xlabel('Tree depth')\n",
        "plt.xticks(x)\n",
        "plt.legend()"
      ],
      "execution_count": null,
      "outputs": [
        {
          "output_type": "execute_result",
          "data": {
            "text/plain": [
              "<matplotlib.legend.Legend at 0x11b71bee0>"
            ]
          },
          "metadata": {
            "tags": []
          },
          "execution_count": 88
        },
        {
          "output_type": "display_data",
          "data": {
            "image/png": "[encoded data removed]",
            "text/plain": [
              "<Figure size 432x288 with 1 Axes>"
            ]
          },
          "metadata": {
            "tags": [],
            "needs_background": "light"
          }
        }
      ]
    },
    {
      "cell_type": "markdown",
      "metadata": {
        "id": "bBEsHAo3L21w"
      },
      "source": [
        "### Computing accuracy on the test set\n",
        "Based on your plotted results, decide on the best value of `max_depth` to use in your decision tree classifier. Instantiate a new classifier with your chosen value. Fit the model on the training data. Make a prediction on the held-out test data, and calculate the accuracy on the test data. Is the accuracy what you expected? If not, why not?\n"
      ]
    },
    {
      "cell_type": "code",
      "metadata": {
        "id": "JWk7TiGNL21w",
        "outputId": "4789687d-10ec-470e-c103-9c159b63d5d1"
      },
      "source": [
        "#Instantiate a new classifier\n",
        "clf = DecisionTreeClassifier(max_depth=5)\n",
        "\n",
        "#Fit the classifier on the training data\n",
        "clf.fit(Xtr, ytr)\n",
        "\n",
        "#Make a prediction on the test data\n",
        "pred_test = clf.predict(Xtest)\n",
        "\n",
        "#Calculate the accuracy on the test data\n",
        "accuracy_score(ytest, pred_test)\n"
      ],
      "execution_count": null,
      "outputs": [
        {
          "output_type": "execute_result",
          "data": {
            "text/plain": [
              "0.7775"
            ]
          },
          "metadata": {
            "tags": []
          },
          "execution_count": 89
        }
      ]
    },
    {
      "cell_type": "code",
      "metadata": {
        "id": "qn5p05w-L21y"
      },
      "source": [
        ""
      ],
      "execution_count": null,
      "outputs": []
    }
  ]
}