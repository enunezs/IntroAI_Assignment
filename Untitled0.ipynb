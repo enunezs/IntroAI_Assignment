{
  "nbformat": 4,
  "nbformat_minor": 0,
  "metadata": {
    "colab": {
      "name": "Untitled0.ipynb",
      "provenance": [],
      "collapsed_sections": [],
      "authorship_tag": "ABX9TyOyc8tvmJpeV/dSlCqamLtp",
      "include_colab_link": true
    },
    "kernelspec": {
      "name": "python3",
      "display_name": "Python 3"
    }
  },
  "cells": [
    {
      "cell_type": "markdown",
      "metadata": {
        "id": "view-in-github",
        "colab_type": "text"
      },
      "source": [
        "<a href=\"https://colab.research.google.com/github/enunezs/IntroAI_Assignment/blob/main/Untitled0.ipynb\" target=\"_parent\"><img src=\"https://colab.research.google.com/assets/colab-badge.svg\" alt=\"Open In Colab\"/></a>"
      ]
    },
    {
      "cell_type": "markdown",
      "metadata": {
        "id": "rxX81R2DKqZh"
      },
      "source": [
        "# Question 1 (35 pts)\n"
      ]
    },
    {
      "cell_type": "markdown",
      "metadata": {
        "id": "A3IvLSU7KqGN"
      },
      "source": [
        "Download the dataset coursework1.csv from Blackboard. This dataset consists of mea-\n",
        "surements of nitrous oxide (NOX) around a gas power station, together with data from 9\n",
        "other sensors around the power station. Your task is to build a model to predict the amount\n",
        "of nitrous oxide emitted, given values on the other sensors.\n",
        "\n",
        "Your should consider the following aspects:\n",
        "\n",
        " * The kind of algorithm to use (e.g.: classification/regression/clustering)\n",
        " The metric to use to measure the performance of the model\n",
        " * What sort of baseline to compare the model to (sklearn has a module sklearn.dummy\n",
        "which may be useful in generating a baseline)\n",
        " * How to choose the hyperparameters of your model\n",
        " * How to test the performance of your model\n",
        "\n",
        "Concretely, you should use at least two algorithms from scikit-learn (not including the\n",
        "dummy baseline) and compare their performance on the dataset. You should use tech-\n",
        "niques to assess the ability of the models to generalise to unseen data and to ensure that\n",
        "your assessment of the models’ performance is robust.\n",
        "\n",
        "Material from worksheets 13, 14, 18, and 19 will be helpful here.\n",
        "\n",
        "Your answer to this question should take the form of a short report (around 4 pages),\n",
        "together with commented code, detailing the approach you will take to building a system\n",
        "to predict the amount of nitrous oxide emitted. Make sure you address all the bullet points\n",
        "above, and explain your decisions. For example: ‘I chose to use a X algorithm because Y’.\n",
        "‘Because of Z, I used metric M’. You should use plots and figures as appropriate to illustrate\n",
        "your decisions.\n",
        "\n",
        "The code will not be marked for elegance, but it should run correctly. If you are using\n",
        "jupyter, a good tip is to make sure you have restarted the kernel and made sure that the\n",
        "code can run from scratch before submitting.\n"
      ]
    },
    {
      "cell_type": "code",
      "metadata": {
        "id": "6pbPg2tbJlWV"
      },
      "source": [
        "import numpy as np\n",
        "import pandas as pd"
      ],
      "execution_count": null,
      "outputs": []
    },
    {
      "cell_type": "code",
      "metadata": {
        "colab": {
          "base_uri": "https://localhost:8080/"
        },
        "id": "rruLSJdEJdq9",
        "outputId": "bbb4db5e-34aa-43dc-f686-f838a1c8f5b4"
      },
      "source": [
        "from google.colab import drive\n",
        "# it will link to your google drive and may ask you to go through a verification step\n",
        "drive.mount('/content/drive') "
      ],
      "execution_count": null,
      "outputs": [
        {
          "output_type": "stream",
          "text": [
            "Mounted at /content/drive\n"
          ],
          "name": "stdout"
        }
      ]
    },
    {
      "cell_type": "code",
      "metadata": {
        "id": "KjmLHY3nJkkx"
      },
      "source": [
        "# Path to folders with training data\n",
        "ex1_path = \"/content/drive/MyDrive/College/BristolUWE/Teaching Block 2/Introduction to Artificial Intelligence/Project/coursework1.csv\"\n",
        "ex2_path =  \"/content/drive/MyDrive/College/BristolUWE/Teaching Block 2/Introduction to Artificial Intelligence/Project/coursework2.csv\"\n",
        "\n"
      ],
      "execution_count": null,
      "outputs": []
    },
    {
      "cell_type": "markdown",
      "metadata": {
        "id": "O_qh0Yz4LE8_"
      },
      "source": [
        "#Question 2: (35 pts)\n",
        "\n",
        "Download the dataset coursework2.csv from Blackboard. This dataset details the demand\n",
        "for hire bicycles, dependent on certain other factors. The bicycle hire company is interested\n",
        "in whether the demand for bicycles is going to be high, medium, or low on a given day. The\n",
        "number of bicycles used each day is given in ‘count’.\n",
        "\n",
        "We will be using the attributes ‘season’, ‘workingday’, and ‘weathersit’ to try to\n",
        "predict whether the demand is high, medium, or low. The attribute ‘season’ contains an\n",
        "integer between 1 and 4 inclusive denoting the season. The attribute ‘working day’ contains\n",
        "a 1 if the day is Monday - Friday, and 0 if the day is Saturday or Sunday. The attribute\n",
        "‘weathersit’ contains an integer between 1 and 3 inclusive ranging from sunny to stormy.\n",
        "\n",
        "You will be writing a decision tree to predict demand using these three attributes. The\n",
        "scikit-learn decision tree algorithm does not deal well with categorical data.\n",
        "\n",
        "Material from week 18 will be helpful here.\n",
        "\n",
        "Submit your answers in the form of a short report (not more than 4 pages), using plots\n",
        "and images where appropriate, together with commented code.\n"
      ]
    },
    {
      "cell_type": "markdown",
      "metadata": {
        "id": "BiAs1MHdLfGy"
      },
      "source": [
        "\n",
        " * **5 pts** Plot a histogram of the counts and use this information to divide the counts into three\n",
        "categories ‘high’, ‘medium’ and ‘low’. Create a new feature in the dataset called ‘usage’\n",
        "which contains values ‘high’, ‘medium’, and ‘low’ depending on the value in ‘count’.\n",
        "\n"
      ]
    },
    {
      "cell_type": "code",
      "metadata": {
        "id": "XpFC0zEML31V"
      },
      "source": [
        ""
      ],
      "execution_count": null,
      "outputs": []
    },
    {
      "cell_type": "markdown",
      "metadata": {
        "id": "eELUQAshLqQA"
      },
      "source": [
        " * **4 pts** Write a function to calculate the entropy of a subset of the target values.\n"
      ]
    },
    {
      "cell_type": "code",
      "metadata": {
        "id": "dH_wqLBcL4Jp"
      },
      "source": [
        ""
      ],
      "execution_count": null,
      "outputs": []
    },
    {
      "cell_type": "markdown",
      "metadata": {
        "id": "mlYmIM2vLro7"
      },
      "source": [
        " * **6 pts** Write a function to calculate the information gain of an attribute. Which attribute\n",
        "has the highest information gain over the whole dataset?\n"
      ]
    },
    {
      "cell_type": "code",
      "metadata": {
        "id": "8r1EewE_L4si"
      },
      "source": [
        ""
      ],
      "execution_count": null,
      "outputs": []
    },
    {
      "cell_type": "markdown",
      "metadata": {
        "id": "LDdLuyo5LtHa"
      },
      "source": [
        " * **10 pts** Write a function to build a decision tree. You may want to use a library to build\n",
        "trees such as treelib.\n"
      ]
    },
    {
      "cell_type": "code",
      "metadata": {
        "id": "vxeN9JQWL5AC"
      },
      "source": [
        ""
      ],
      "execution_count": null,
      "outputs": []
    },
    {
      "cell_type": "markdown",
      "metadata": {
        "id": "LCpXcTjoLvmx"
      },
      "source": [
        " * **5 pts** Display the decision tree (using, for example, the show function in treelib). Do\n",
        "you think some techniques should be applied to improve the structure of the tree? What do\n",
        "you suggest?\n"
      ]
    },
    {
      "cell_type": "code",
      "metadata": {
        "id": "ndZtxWHhL5mC"
      },
      "source": [
        ""
      ],
      "execution_count": null,
      "outputs": []
    },
    {
      "cell_type": "markdown",
      "metadata": {
        "id": "HraXWtE1L1zX"
      },
      "source": [
        " * **5 pts** Create a new attribute called ‘tempbins’ by binning the ‘temp’ attribute into\n",
        "‘low’ if ‘temp’ < 12, ‘medium’ if 12 ≤ ‘temp’ < 24, and ‘high’ if ‘temp’ ≥ 24. Does this\n",
        "attribute alter the structure of the decision tree?"
      ]
    },
    {
      "cell_type": "code",
      "metadata": {
        "id": "QKfuqqU7L1QL"
      },
      "source": [
        ""
      ],
      "execution_count": null,
      "outputs": []
    },
    {
      "cell_type": "markdown",
      "metadata": {
        "id": "D41-ilQIMBfb"
      },
      "source": [
        "Question 3: 30pts\n",
        "Write a datasheet for the dataset http://saifmohammad.com/WebPages/wikiartemotions.\n",
        "html. Questions for the datasheet are available in Gebru, T., Morgenstern, J., Vecchione,\n"
      ]
    }
  ]
}